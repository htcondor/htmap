{
 "cells": [
  {
   "cell_type": "markdown",
   "metadata": {},
   "source": [
    "# Error Handling\n",
    "[![Binder](https://mybinder.org/badge_logo.svg)](https://mybinder.org/v2/gh/htcondor/htmap/master?urlpath=lab/tree/tutorials/error-handling.ipynb)"
   ]
  },
  {
   "cell_type": "markdown",
   "metadata": {},
   "source": [
    "## Holds\n",
    "\n",
    "In previous tutorials we mentioned that HTMap is able to track the status of your components and inform you about something called a \"hold\".\n",
    "A hold occurs when HTCondor notices something wrong about your map component.\n",
    "Perhaps an input file is missing, or your component tried to use a file that didn't exist.\n",
    "\n",
    "The last one is easy to force, so let's do it and see what happens:"
   ]
  },
  {
   "cell_type": "code",
   "execution_count": null,
   "metadata": {},
   "outputs": [],
   "source": [
    "import htmap\n",
    "\n",
    "@htmap.mapped\n",
    "def foo(_):  # _ is a perfectly legal argument name, often used to mean \"I don't actually use it\"\n",
    "    return \"I didn't get held!\""
   ]
  },
  {
   "cell_type": "code",
   "execution_count": null,
   "metadata": {},
   "outputs": [],
   "source": [
    "path = htmap.TransferPath('this-file-does-not-exist')\n",
    "will_get_held = foo.map(\n",
    "    [path],\n",
    ")"
   ]
  },
  {
   "cell_type": "markdown",
   "metadata": {},
   "source": [
    "We know that the component will fail, but HTMap won't know about it until we try to look at the output:"
   ]
  },
  {
   "cell_type": "code",
   "execution_count": null,
   "metadata": {},
   "outputs": [],
   "source": [
    "print(will_get_held.get(0))"
   ]
  },
  {
   "cell_type": "markdown",
   "metadata": {},
   "source": [
    "Yikes!\n",
    "HTMap has raised an exception to inform us that a component of our map got held.\n",
    "It also tells us why HTCondor held the component: `error reading from /home/jovyan/tutorials/this-file-does-not-exist: (errno 2) No such file or directory; STARTER failed to receive file(s) from <172.17.0.2:9618>`.\n",
    "\n",
    "This time around the hold reason is pretty clear: a local file that HTCondor expected to exist didn't.\n",
    "We could fix the problem by creating the file, and then releasing the map, which tells HTCondor to try again:"
   ]
  },
  {
   "cell_type": "code",
   "execution_count": null,
   "metadata": {},
   "outputs": [],
   "source": [
    "path.touch()  # this creates an empty file"
   ]
  },
  {
   "cell_type": "markdown",
   "metadata": {},
   "source": [
    "Now the map will run successfully.\n",
    "We tell HTMap to \"release\" the hold, allowing the map to continue running."
   ]
  },
  {
   "cell_type": "code",
   "execution_count": null,
   "metadata": {},
   "outputs": [],
   "source": [
    "will_get_held.release()\n",
    "print(will_get_held.get(0))"
   ]
  },
  {
   "cell_type": "markdown",
   "metadata": {},
   "source": [
    "Unfortunately, holds will often not be so easy to resolve.\n",
    "Sometimes they are simply ephemeral errors that can be resolved by releasing the map without changing anything.\n",
    "But sometimes you'll need to talk to your HTCondor pool administrator to figure out what's going wrong."
   ]
  },
  {
   "cell_type": "markdown",
   "metadata": {},
   "source": [
    "## Execution Errors"
   ]
  },
  {
   "cell_type": "markdown",
   "metadata": {},
   "source": [
    "HTMap can also detect Python exceptions that occur during component execution.\n",
    "To see this in action, let's define a function where a component will have a problem:"
   ]
  },
  {
   "cell_type": "code",
   "execution_count": null,
   "metadata": {},
   "outputs": [],
   "source": [
    "@htmap.mapped\n",
    "def inverse(x):\n",
    "    return 1 / x"
   ]
  },
  {
   "cell_type": "markdown",
   "metadata": {},
   "source": [
    "When `x = 0`, `inverse(x)` will fail with a `ZeroDivisionError`.\n",
    "If we run it locally, the error will halt execution and drop a traceback into our laps:"
   ]
  },
  {
   "cell_type": "code",
   "execution_count": null,
   "metadata": {},
   "outputs": [],
   "source": [
    "inverse(0)"
   ]
  },
  {
   "cell_type": "markdown",
   "metadata": {},
   "source": [
    "The traceback has a lot of critically-useful information in it. In fact, it tells us exactly the line that raised the error (remember that tracebacks should be read in reverse - the last block of source code is where the error began).\n",
    "\n",
    "HTMap is able to transport this kind of information back from an executing component, but like the regular output of a map we won't see it until we try to load up the output for the failed component.\n",
    "We'll make a one-component map to demonstrate what happens:"
   ]
  },
  {
   "cell_type": "code",
   "execution_count": null,
   "metadata": {},
   "outputs": [],
   "source": [
    "bad_map = inverse.map([0])\n",
    "bad_map.get(0)"
   ]
  },
  {
   "cell_type": "markdown",
   "metadata": {},
   "source": [
    "Neat!\n",
    "This traceback is, unfortunately, harder to read than the other one.\n",
    "We need to ignore everything above `MapComponentError: component 0 of map <tag> encountered error while executing. Error report:` - it's just about the internal error that HTMap is raising to propagate the error to us.\n",
    "The real error is the stuff below `=========  Start error report for component 0 of map <tag>  =========`.\n",
    "\n",
    "Since we're trying to debug remotely, HTMap has gathered some metadata about the HTCondor \"execute node\" where the component was running.\n",
    "First it tell us where it is and when the component started executing.\n",
    "Next, the report tells us about the Python environment that was used to execute your function, including a list of installed packages.\n",
    "We also get a listing of the contents of the working directory - in this example, because we didn't add any extra input files, it's just a bunch of files that HTCondor and HTMap are using.\n",
    "\n",
    "The meat of the error is the last thing in the error report.\n",
    "We get roughly the same information that we got in the local traceback, but we also get a printout of the local variables in each stack frame."
   ]
  },
  {
   "cell_type": "markdown",
   "metadata": {},
   "source": [
    "Since the local HTMap error is raised as soon as it finds a bad component, you may find it convenient to look at _all_ of the error reports for your map (hopefully not too many!).\n",
    "[htmap.Map.error_reports](https://htmap.readthedocs.io/en/stable/api.html#htmap.Map.error_reports) provides exactly this functionality:"
   ]
  },
  {
   "cell_type": "code",
   "execution_count": null,
   "metadata": {},
   "outputs": [],
   "source": [
    "worse_map = inverse.map([0, 0, 0])\n",
    "for report in worse_map.error_reports():\n",
    "    print(report + '\\n')"
   ]
  },
  {
   "cell_type": "markdown",
   "metadata": {},
   "source": [
    "Unlike holds, you generally won't want to re-run components that experienced errors (they'll just fail again).\n",
    "Instead, an error is usually a signal that you've got a bug in your own code.\n",
    "Remove your map, debug the error locally, then create a new map."
   ]
  },
  {
   "cell_type": "markdown",
   "metadata": {},
   "source": [
    "## Standard Output and Error"
   ]
  },
  {
   "cell_type": "markdown",
   "metadata": {},
   "source": [
    "When handling trickier errors, you may need to look at the `stdout` and `stderr` from your map components. `stdout` and `stderr` are what you would see on the terminal if you executed your code locally - things like `print` and exceptions normally display their information there. HTMap provides access to `stdout` and `stderr` for each component through the appropriately-named attributes of your maps: "
   ]
  },
  {
   "cell_type": "code",
   "execution_count": null,
   "metadata": {},
   "outputs": [],
   "source": [
    "import sys\n",
    "\n",
    "@htmap.mapped\n",
    "def stdx(_):\n",
    "    print(\"Hi from stdout!\")  # stdout is the default\n",
    "    print(\"Hi from stderr!\", file = sys.stderr)\n",
    "    \n",
    "m = stdx.map([None])"
   ]
  },
  {
   "cell_type": "code",
   "execution_count": null,
   "metadata": {},
   "outputs": [],
   "source": [
    "m.stdout[0]"
   ]
  },
  {
   "cell_type": "markdown",
   "metadata": {},
   "source": [
    "Note that much of the same information from the error report is included in the component `stdout` for convenience."
   ]
  },
  {
   "cell_type": "code",
   "execution_count": null,
   "metadata": {},
   "outputs": [],
   "source": [
    "m.stderr[0]"
   ]
  },
  {
   "cell_type": "markdown",
   "metadata": {},
   "source": [
    "These attributes are both iterable sequences, which means that you can do something like this:"
   ]
  },
  {
   "cell_type": "code",
   "execution_count": null,
   "metadata": {},
   "outputs": [],
   "source": [
    "@htmap.mapped\n",
    "def err(x):\n",
    "    print(f\"Hi from stderr! {x}\", file = sys.stderr)\n",
    "    \n",
    "err_map = err.map(range(5))\n",
    "err_map.wait(show_progress_bar = True)\n",
    "\n",
    "for e in err_map.stderr:\n",
    "    print(e)"
   ]
  }
 ],
 "metadata": {
  "kernelspec": {
   "display_name": "Python 3",
   "language": "python",
   "name": "python3"
  },
  "language_info": {
   "codemirror_mode": {
    "name": "ipython",
    "version": 3
   },
   "file_extension": ".py",
   "mimetype": "text/x-python",
   "name": "python",
   "nbconvert_exporter": "python",
   "pygments_lexer": "ipython3",
   "version": "3.6.6"
  }
 },
 "nbformat": 4,
 "nbformat_minor": 2
}
