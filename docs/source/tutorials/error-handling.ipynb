{
 "cells": [
  {
   "cell_type": "markdown",
   "metadata": {},
   "source": [
    "# Error Handling"
   ]
  },
  {
   "cell_type": "markdown",
   "metadata": {},
   "source": [
    "## Holds\n",
    "\n",
    "In previous tutorials we mentioned that HTMap is able to track the status of your components and inform you about something called a \"hold\".\n",
    "A hold occurs when HTCondor notices something wrong about your map component.\n",
    "Perhaps an input file is missing, or your component tried to open a file that didn't exist.\n",
    "\n",
    "The last one is easy to force, so let's do it and see what happens:"
   ]
  },
  {
   "cell_type": "code",
   "execution_count": 1,
   "metadata": {},
   "outputs": [],
   "source": [
    "import htmap\n",
    "\n",
    "@htmap.mapped\n",
    "def foo(_):\n",
    "    return \"I didn't get held!\""
   ]
  },
  {
   "cell_type": "code",
   "execution_count": 2,
   "metadata": {},
   "outputs": [],
   "source": [
    "htmap.remove('will-get-held')\n",
    "will_get_held = foo.map(\n",
    "    'will-get-held',\n",
    "    [None],\n",
    "    map_options = htmap.MapOptions(\n",
    "        input_files = ['this-file-does-not-exist']\n",
    "    ),\n",
    ")"
   ]
  },
  {
   "cell_type": "code",
   "execution_count": 3,
   "metadata": {},
   "outputs": [
    {
     "ename": "MapComponentHeld",
     "evalue": "component 0 of map will-get-held is held. Reason: [13] Error from slot1@galain: SHADOW at 10.0.1.6 failed to send file(s) to <10.0.1.6:64868>: error reading from D:/GitHubProjects/htmap/docs/source/tutorials/this-file-does-not-exist: (errno 2) No such file or directory; STARTER failed to receive file(s) from <10.0.1.6:9618>",
     "output_type": "error",
     "traceback": [
      "\u001b[1;31m---------------------------------------------------------------------------\u001b[0m",
      "\u001b[1;31mMapComponentHeld\u001b[0m                          Traceback (most recent call last)",
      "\u001b[1;32m<ipython-input-3-5d01e9881ed9>\u001b[0m in \u001b[0;36m<module>\u001b[1;34m()\u001b[0m\n\u001b[1;32m----> 1\u001b[1;33m \u001b[0mlist\u001b[0m\u001b[1;33m(\u001b[0m\u001b[0mwill_get_held\u001b[0m\u001b[1;33m)\u001b[0m\u001b[1;33m\u001b[0m\u001b[0m\n\u001b[0m",
      "\u001b[1;32md:\\githubprojects\\htmap\\htmap\\maps.py\u001b[0m in \u001b[0;36m__iter__\u001b[1;34m(self)\u001b[0m\n\u001b[0;32m    520\u001b[0m         \u001b[0mwaiting\u001b[0m \u001b[0mon\u001b[0m \u001b[0meach\u001b[0m \u001b[0mindividual\u001b[0m \u001b[0moutput\u001b[0m \u001b[0mto\u001b[0m \u001b[0mbecome\u001b[0m \u001b[0mavailable\u001b[0m\u001b[1;33m.\u001b[0m\u001b[1;33m\u001b[0m\u001b[0m\n\u001b[0;32m    521\u001b[0m         \"\"\"\n\u001b[1;32m--> 522\u001b[1;33m         \u001b[1;32myield\u001b[0m \u001b[1;32mfrom\u001b[0m \u001b[0mself\u001b[0m\u001b[1;33m.\u001b[0m\u001b[0miter\u001b[0m\u001b[1;33m(\u001b[0m\u001b[1;33m)\u001b[0m\u001b[1;33m\u001b[0m\u001b[0m\n\u001b[0m\u001b[0;32m    523\u001b[0m \u001b[1;33m\u001b[0m\u001b[0m\n\u001b[0;32m    524\u001b[0m     def iter(\n",
      "\u001b[1;32md:\\githubprojects\\htmap\\htmap\\maps.py\u001b[0m in \u001b[0;36miter\u001b[1;34m(self, callback, timeout)\u001b[0m\n\u001b[0;32m    543\u001b[0m \u001b[1;33m\u001b[0m\u001b[0m\n\u001b[0;32m    544\u001b[0m         \u001b[1;32mfor\u001b[0m \u001b[0mcomponent\u001b[0m \u001b[1;32min\u001b[0m \u001b[0mself\u001b[0m\u001b[1;33m.\u001b[0m\u001b[0mcomponent_indices\u001b[0m\u001b[1;33m:\u001b[0m\u001b[1;33m\u001b[0m\u001b[0m\n\u001b[1;32m--> 545\u001b[1;33m             \u001b[0moutput\u001b[0m \u001b[1;33m=\u001b[0m \u001b[0mself\u001b[0m\u001b[1;33m.\u001b[0m\u001b[0m_load_output\u001b[0m\u001b[1;33m(\u001b[0m\u001b[0mcomponent\u001b[0m\u001b[1;33m,\u001b[0m \u001b[0mtimeout\u001b[0m \u001b[1;33m=\u001b[0m \u001b[0mtimeout\u001b[0m\u001b[1;33m)\u001b[0m\u001b[1;33m\u001b[0m\u001b[0m\n\u001b[0m\u001b[0;32m    546\u001b[0m             \u001b[0mcallback\u001b[0m\u001b[1;33m(\u001b[0m\u001b[0moutput\u001b[0m\u001b[1;33m)\u001b[0m\u001b[1;33m\u001b[0m\u001b[0m\n\u001b[0;32m    547\u001b[0m             \u001b[1;32myield\u001b[0m \u001b[0moutput\u001b[0m\u001b[1;33m\u001b[0m\u001b[0m\n",
      "\u001b[1;32md:\\githubprojects\\htmap\\htmap\\maps.py\u001b[0m in \u001b[0;36m_load_output\u001b[1;34m(self, component, timeout)\u001b[0m\n\u001b[0;32m    467\u001b[0m \u001b[1;33m\u001b[0m\u001b[0m\n\u001b[0;32m    468\u001b[0m     \u001b[1;32mdef\u001b[0m \u001b[0m_load_output\u001b[0m\u001b[1;33m(\u001b[0m\u001b[0mself\u001b[0m\u001b[1;33m,\u001b[0m \u001b[0mcomponent\u001b[0m\u001b[1;33m:\u001b[0m \u001b[0mint\u001b[0m\u001b[1;33m,\u001b[0m \u001b[0mtimeout\u001b[0m \u001b[1;33m=\u001b[0m \u001b[1;32mNone\u001b[0m\u001b[1;33m)\u001b[0m \u001b[1;33m->\u001b[0m \u001b[0mAny\u001b[0m\u001b[1;33m:\u001b[0m\u001b[1;33m\u001b[0m\u001b[0m\n\u001b[1;32m--> 469\u001b[1;33m         \u001b[0mresult\u001b[0m \u001b[1;33m=\u001b[0m \u001b[0mself\u001b[0m\u001b[1;33m.\u001b[0m\u001b[0m_load_result\u001b[0m\u001b[1;33m(\u001b[0m\u001b[0mcomponent\u001b[0m\u001b[1;33m,\u001b[0m \u001b[0mtimeout\u001b[0m\u001b[1;33m)\u001b[0m\u001b[1;33m\u001b[0m\u001b[0m\n\u001b[0m\u001b[0;32m    470\u001b[0m \u001b[1;33m\u001b[0m\u001b[0m\n\u001b[0;32m    471\u001b[0m         \u001b[1;32mif\u001b[0m \u001b[0mresult\u001b[0m\u001b[1;33m.\u001b[0m\u001b[0mstatus\u001b[0m \u001b[1;33m==\u001b[0m \u001b[1;34m'OK'\u001b[0m\u001b[1;33m:\u001b[0m\u001b[1;33m\u001b[0m\u001b[0m\n",
      "\u001b[1;32md:\\githubprojects\\htmap\\htmap\\maps.py\u001b[0m in \u001b[0;36m_load_result\u001b[1;34m(self, component, timeout)\u001b[0m\n\u001b[0;32m    459\u001b[0m \u001b[1;33m\u001b[0m\u001b[0m\n\u001b[0;32m    460\u001b[0m     \u001b[1;32mdef\u001b[0m \u001b[0m_load_result\u001b[0m\u001b[1;33m(\u001b[0m\u001b[0mself\u001b[0m\u001b[1;33m,\u001b[0m \u001b[0mcomponent\u001b[0m\u001b[1;33m:\u001b[0m \u001b[0mint\u001b[0m\u001b[1;33m,\u001b[0m \u001b[0mtimeout\u001b[0m \u001b[1;33m=\u001b[0m \u001b[1;32mNone\u001b[0m\u001b[1;33m)\u001b[0m\u001b[1;33m:\u001b[0m\u001b[1;33m\u001b[0m\u001b[0m\n\u001b[1;32m--> 461\u001b[1;33m         \u001b[0mself\u001b[0m\u001b[1;33m.\u001b[0m\u001b[0m_wait_for_component\u001b[0m\u001b[1;33m(\u001b[0m\u001b[0mcomponent\u001b[0m\u001b[1;33m,\u001b[0m \u001b[0mtimeout\u001b[0m\u001b[1;33m)\u001b[0m\u001b[1;33m\u001b[0m\u001b[0m\n\u001b[0m\u001b[0;32m    462\u001b[0m \u001b[1;33m\u001b[0m\u001b[0m\n\u001b[0;32m    463\u001b[0m         \u001b[1;32mreturn\u001b[0m \u001b[0mhtio\u001b[0m\u001b[1;33m.\u001b[0m\u001b[0mload_object\u001b[0m\u001b[1;33m(\u001b[0m\u001b[0mself\u001b[0m\u001b[1;33m.\u001b[0m\u001b[0m_output_file_path\u001b[0m\u001b[1;33m(\u001b[0m\u001b[0mcomponent\u001b[0m\u001b[1;33m)\u001b[0m\u001b[1;33m)\u001b[0m\u001b[1;33m\u001b[0m\u001b[0m\n",
      "\u001b[1;32md:\\githubprojects\\htmap\\htmap\\maps.py\u001b[0m in \u001b[0;36m_wait_for_component\u001b[1;34m(self, component, timeout)\u001b[0m\n\u001b[0;32m    448\u001b[0m                 \u001b[1;32mbreak\u001b[0m\u001b[1;33m\u001b[0m\u001b[0m\n\u001b[0;32m    449\u001b[0m             \u001b[1;32melif\u001b[0m \u001b[0mstatus\u001b[0m \u001b[1;33m==\u001b[0m \u001b[0mComponentStatus\u001b[0m\u001b[1;33m.\u001b[0m\u001b[0mHELD\u001b[0m\u001b[1;33m:\u001b[0m\u001b[1;33m\u001b[0m\u001b[0m\n\u001b[1;32m--> 450\u001b[1;33m                 \u001b[1;32mraise\u001b[0m \u001b[0mexceptions\u001b[0m\u001b[1;33m.\u001b[0m\u001b[0mMapComponentHeld\u001b[0m\u001b[1;33m(\u001b[0m\u001b[1;34mf'component {component} of map {self.map_id} is held. Reason: {self.holds[component]}'\u001b[0m\u001b[1;33m)\u001b[0m\u001b[1;33m\u001b[0m\u001b[0m\n\u001b[0m\u001b[0;32m    451\u001b[0m \u001b[1;33m\u001b[0m\u001b[0m\n\u001b[0;32m    452\u001b[0m             \u001b[1;32mif\u001b[0m \u001b[0mtimeout\u001b[0m \u001b[1;32mis\u001b[0m \u001b[1;32mnot\u001b[0m \u001b[1;32mNone\u001b[0m \u001b[1;32mand\u001b[0m \u001b[1;33m(\u001b[0m\u001b[0mtime\u001b[0m\u001b[1;33m.\u001b[0m\u001b[0mtime\u001b[0m\u001b[1;33m(\u001b[0m\u001b[1;33m)\u001b[0m \u001b[1;33m>=\u001b[0m \u001b[0mstart_time\u001b[0m \u001b[1;33m+\u001b[0m \u001b[0mtimeout\u001b[0m\u001b[1;33m)\u001b[0m\u001b[1;33m:\u001b[0m\u001b[1;33m\u001b[0m\u001b[0m\n",
      "\u001b[1;31mMapComponentHeld\u001b[0m: component 0 of map will-get-held is held. Reason: [13] Error from slot1@galain: SHADOW at 10.0.1.6 failed to send file(s) to <10.0.1.6:64868>: error reading from D:/GitHubProjects/htmap/docs/source/tutorials/this-file-does-not-exist: (errno 2) No such file or directory; STARTER failed to receive file(s) from <10.0.1.6:9618>"
     ]
    }
   ],
   "source": [
    "list(will_get_held)"
   ]
  },
  {
   "cell_type": "markdown",
   "metadata": {},
   "source": [
    "Yikes!\n",
    "HTMap has raised an exception to inform us that a component of our map got held.\n",
    "It also tells us why HTCondor held the component: `Error from slot1@galain: SHADOW at 10.0.1.6 failed to send file(s) to <10.0.1.6:63896>: error reading from D:/GitHubProjects/htmap/docs/source/tutorials/this-file-does-not-exist: (errno 2) No such file or directory; STARTER failed to receive file(s) from <10.0.1.6:9618>`.\n",
    "\n",
    "This time around the hold reason is pretty clear: a local file that HTCondor expected to exist didn't.\n",
    "We could fix the problem by creating the file, and then releasing the map, which tells HTCondor to try again:"
   ]
  },
  {
   "cell_type": "code",
   "execution_count": 4,
   "metadata": {},
   "outputs": [],
   "source": [
    "from pathlib import Path\n",
    "\n",
    "path = Path('this-file-does-not-exist')\n",
    "path.touch()  # this creates an empty file"
   ]
  },
  {
   "cell_type": "markdown",
   "metadata": {},
   "source": [
    "Now the map will run successfully:"
   ]
  },
  {
   "cell_type": "code",
   "execution_count": 5,
   "metadata": {},
   "outputs": [
    {
     "name": "stdout",
     "output_type": "stream",
     "text": [
      "[\"I didn't get held!\"]\n"
     ]
    }
   ],
   "source": [
    "will_get_held.release()\n",
    "print(list(will_get_held))"
   ]
  },
  {
   "cell_type": "markdown",
   "metadata": {},
   "source": [
    "And, of course, clean up:"
   ]
  },
  {
   "cell_type": "code",
   "execution_count": 6,
   "metadata": {},
   "outputs": [],
   "source": [
    "path.unlink()"
   ]
  },
  {
   "cell_type": "markdown",
   "metadata": {},
   "source": [
    "Unfortunately, holds will often not be so easy to resolve.\n",
    "Sometimes they are simply ephemeral errors that can be resolved by releasing the map without changing anything.\n",
    "But sometimes you'll need to talk to your HTCondor pool administrator to figure out what's going wrong."
   ]
  },
  {
   "cell_type": "markdown",
   "metadata": {},
   "source": [
    "## Execution Errors"
   ]
  },
  {
   "cell_type": "markdown",
   "metadata": {},
   "source": [
    "HTMap can also detect Python exceptions that occur during component execution.\n",
    "To see this in action, let's define a function where a component will have a problem:"
   ]
  },
  {
   "cell_type": "code",
   "execution_count": 7,
   "metadata": {},
   "outputs": [],
   "source": [
    "@htmap.mapped\n",
    "def inverse(x):\n",
    "    return 1 / x"
   ]
  },
  {
   "cell_type": "markdown",
   "metadata": {},
   "source": [
    "When `x = 0`, `inverse(x)` will fail with a `ZeroDivisionError`.\n",
    "If we run it locally, the error will halt execution and drop a traceback into our laps:"
   ]
  },
  {
   "cell_type": "code",
   "execution_count": 8,
   "metadata": {},
   "outputs": [
    {
     "ename": "ZeroDivisionError",
     "evalue": "division by zero",
     "output_type": "error",
     "traceback": [
      "\u001b[1;31m---------------------------------------------------------------------------\u001b[0m",
      "\u001b[1;31mZeroDivisionError\u001b[0m                         Traceback (most recent call last)",
      "\u001b[1;32m<ipython-input-8-7538d73c586c>\u001b[0m in \u001b[0;36m<module>\u001b[1;34m()\u001b[0m\n\u001b[1;32m----> 1\u001b[1;33m \u001b[0minverse\u001b[0m\u001b[1;33m(\u001b[0m\u001b[1;36m0\u001b[0m\u001b[1;33m)\u001b[0m\u001b[1;33m\u001b[0m\u001b[0m\n\u001b[0m",
      "\u001b[1;32md:\\githubprojects\\htmap\\htmap\\mapped.py\u001b[0m in \u001b[0;36m__call__\u001b[1;34m(self, *args, **kwargs)\u001b[0m\n\u001b[0;32m     50\u001b[0m     \u001b[1;32mdef\u001b[0m \u001b[0m__call__\u001b[0m\u001b[1;33m(\u001b[0m\u001b[0mself\u001b[0m\u001b[1;33m,\u001b[0m \u001b[1;33m*\u001b[0m\u001b[0margs\u001b[0m\u001b[1;33m,\u001b[0m \u001b[1;33m**\u001b[0m\u001b[0mkwargs\u001b[0m\u001b[1;33m)\u001b[0m\u001b[1;33m:\u001b[0m\u001b[1;33m\u001b[0m\u001b[0m\n\u001b[0;32m     51\u001b[0m         \u001b[1;34m\"\"\"Call the function as normal, locally.\"\"\"\u001b[0m\u001b[1;33m\u001b[0m\u001b[0m\n\u001b[1;32m---> 52\u001b[1;33m         \u001b[1;32mreturn\u001b[0m \u001b[0mself\u001b[0m\u001b[1;33m.\u001b[0m\u001b[0mfunc\u001b[0m\u001b[1;33m(\u001b[0m\u001b[1;33m*\u001b[0m\u001b[0margs\u001b[0m\u001b[1;33m,\u001b[0m \u001b[1;33m**\u001b[0m\u001b[0mkwargs\u001b[0m\u001b[1;33m)\u001b[0m\u001b[1;33m\u001b[0m\u001b[0m\n\u001b[0m\u001b[0;32m     53\u001b[0m \u001b[1;33m\u001b[0m\u001b[0m\n\u001b[0;32m     54\u001b[0m     def map(\n",
      "\u001b[1;32m<ipython-input-7-769ac4dfb4b6>\u001b[0m in \u001b[0;36minverse\u001b[1;34m(x)\u001b[0m\n\u001b[0;32m      1\u001b[0m \u001b[1;33m@\u001b[0m\u001b[0mhtmap\u001b[0m\u001b[1;33m.\u001b[0m\u001b[0mmapped\u001b[0m\u001b[1;33m\u001b[0m\u001b[0m\n\u001b[0;32m      2\u001b[0m \u001b[1;32mdef\u001b[0m \u001b[0minverse\u001b[0m\u001b[1;33m(\u001b[0m\u001b[0mx\u001b[0m\u001b[1;33m)\u001b[0m\u001b[1;33m:\u001b[0m\u001b[1;33m\u001b[0m\u001b[0m\n\u001b[1;32m----> 3\u001b[1;33m     \u001b[1;32mreturn\u001b[0m \u001b[1;36m1\u001b[0m \u001b[1;33m/\u001b[0m \u001b[0mx\u001b[0m\u001b[1;33m\u001b[0m\u001b[0m\n\u001b[0m",
      "\u001b[1;31mZeroDivisionError\u001b[0m: division by zero"
     ]
    }
   ],
   "source": [
    "inverse(0)"
   ]
  },
  {
   "cell_type": "markdown",
   "metadata": {},
   "source": [
    "The traceback has a lot of critically-useful information in it. In fact, it tells us exactly the line that raised the error (remember that tracebacks should be read in reverse - the last block of source code is where the error began).\n",
    "\n",
    "HTMap is able to transport this kind of information back from an executing component, but like the regular output of a map we won't see it until we try to load up the output for the failed component.\n",
    "We'll make a one-component map to demonstrate what happens:"
   ]
  },
  {
   "cell_type": "code",
   "execution_count": 9,
   "metadata": {},
   "outputs": [
    {
     "ename": "MapComponentError",
     "evalue": "component 0 of map tmp-1541480851-0 encountered error while executing. Error report:\n=========  Start error report for component 0 of map tmp-1541480851-0  =========\nLanded on execute node galain.eau.wi.charter.com (10.0.1.6) at 2018-11-06 05:07:33.948272\n\nPython executable is C:\\Program Files\\Python36\\python.exe (version 3.6.5 final)\nwith installed packages\n  cloudpickle==0.5.3\r\n  numpy==1.15.2\n\nWorking directory contents are\n  C:\\condor\\execute\\dir_18632\\.chirp.config\n  C:\\condor\\execute\\dir_18632\\.job.ad\n  C:\\condor\\execute\\dir_18632\\.machine.ad\n  C:\\condor\\execute\\dir_18632\\0.in\n  C:\\condor\\execute\\dir_18632\\condor_exec.py\n  C:\\condor\\execute\\dir_18632\\func\n  C:\\condor\\execute\\dir_18632\\_condor_stderr\n  C:\\condor\\execute\\dir_18632\\_condor_stdout\n\nException and traceback (most recent call last):\n  File \"<ipython-input-7-769ac4dfb4b6>\", line 3, in inverse\n    return 1 / x\n\n    Local variables:\n      x = 0\n\n  ZeroDivisionError: division by zero\n\n==========  End error report for component 0 of map tmp-1541480851-0  ==========",
     "output_type": "error",
     "traceback": [
      "\u001b[1;31m---------------------------------------------------------------------------\u001b[0m",
      "\u001b[1;31mMapComponentError\u001b[0m                         Traceback (most recent call last)",
      "\u001b[1;32m<ipython-input-9-16bd02a0e6f3>\u001b[0m in \u001b[0;36m<module>\u001b[1;34m()\u001b[0m\n\u001b[0;32m      1\u001b[0m \u001b[0mbad_map\u001b[0m \u001b[1;33m=\u001b[0m \u001b[0minverse\u001b[0m\u001b[1;33m.\u001b[0m\u001b[0mtransient_map\u001b[0m\u001b[1;33m(\u001b[0m\u001b[1;33m[\u001b[0m\u001b[1;36m0\u001b[0m\u001b[1;33m]\u001b[0m\u001b[1;33m)\u001b[0m\u001b[1;33m\u001b[0m\u001b[0m\n\u001b[1;32m----> 2\u001b[1;33m \u001b[0mlist\u001b[0m\u001b[1;33m(\u001b[0m\u001b[0mbad_map\u001b[0m\u001b[1;33m)\u001b[0m\u001b[1;33m\u001b[0m\u001b[0m\n\u001b[0m",
      "\u001b[1;32md:\\githubprojects\\htmap\\htmap\\mapping.py\u001b[0m in \u001b[0;36m__iter__\u001b[1;34m(self)\u001b[0m\n\u001b[0;32m    157\u001b[0m     \u001b[1;32mdef\u001b[0m \u001b[0m__iter__\u001b[0m\u001b[1;33m(\u001b[0m\u001b[0mself\u001b[0m\u001b[1;33m)\u001b[0m\u001b[1;33m:\u001b[0m\u001b[1;33m\u001b[0m\u001b[0m\n\u001b[0;32m    158\u001b[0m         \u001b[1;32mtry\u001b[0m\u001b[1;33m:\u001b[0m\u001b[1;33m\u001b[0m\u001b[0m\n\u001b[1;32m--> 159\u001b[1;33m             \u001b[1;32myield\u001b[0m \u001b[1;32mfrom\u001b[0m \u001b[0mself\u001b[0m\u001b[1;33m.\u001b[0m\u001b[0m_map\u001b[0m\u001b[1;33m\u001b[0m\u001b[0m\n\u001b[0m\u001b[0;32m    160\u001b[0m         \u001b[1;32mfinally\u001b[0m\u001b[1;33m:\u001b[0m\u001b[1;33m\u001b[0m\u001b[0m\n\u001b[0;32m    161\u001b[0m             \u001b[0mself\u001b[0m\u001b[1;33m.\u001b[0m\u001b[0m_cleanup\u001b[0m\u001b[1;33m(\u001b[0m\u001b[1;33m)\u001b[0m\u001b[1;33m\u001b[0m\u001b[0m\n",
      "\u001b[1;32md:\\githubprojects\\htmap\\htmap\\maps.py\u001b[0m in \u001b[0;36m__iter__\u001b[1;34m(self)\u001b[0m\n\u001b[0;32m    520\u001b[0m         \u001b[0mwaiting\u001b[0m \u001b[0mon\u001b[0m \u001b[0meach\u001b[0m \u001b[0mindividual\u001b[0m \u001b[0moutput\u001b[0m \u001b[0mto\u001b[0m \u001b[0mbecome\u001b[0m \u001b[0mavailable\u001b[0m\u001b[1;33m.\u001b[0m\u001b[1;33m\u001b[0m\u001b[0m\n\u001b[0;32m    521\u001b[0m         \"\"\"\n\u001b[1;32m--> 522\u001b[1;33m         \u001b[1;32myield\u001b[0m \u001b[1;32mfrom\u001b[0m \u001b[0mself\u001b[0m\u001b[1;33m.\u001b[0m\u001b[0miter\u001b[0m\u001b[1;33m(\u001b[0m\u001b[1;33m)\u001b[0m\u001b[1;33m\u001b[0m\u001b[0m\n\u001b[0m\u001b[0;32m    523\u001b[0m \u001b[1;33m\u001b[0m\u001b[0m\n\u001b[0;32m    524\u001b[0m     def iter(\n",
      "\u001b[1;32md:\\githubprojects\\htmap\\htmap\\maps.py\u001b[0m in \u001b[0;36miter\u001b[1;34m(self, callback, timeout)\u001b[0m\n\u001b[0;32m    543\u001b[0m \u001b[1;33m\u001b[0m\u001b[0m\n\u001b[0;32m    544\u001b[0m         \u001b[1;32mfor\u001b[0m \u001b[0mcomponent\u001b[0m \u001b[1;32min\u001b[0m \u001b[0mself\u001b[0m\u001b[1;33m.\u001b[0m\u001b[0mcomponent_indices\u001b[0m\u001b[1;33m:\u001b[0m\u001b[1;33m\u001b[0m\u001b[0m\n\u001b[1;32m--> 545\u001b[1;33m             \u001b[0moutput\u001b[0m \u001b[1;33m=\u001b[0m \u001b[0mself\u001b[0m\u001b[1;33m.\u001b[0m\u001b[0m_load_output\u001b[0m\u001b[1;33m(\u001b[0m\u001b[0mcomponent\u001b[0m\u001b[1;33m,\u001b[0m \u001b[0mtimeout\u001b[0m \u001b[1;33m=\u001b[0m \u001b[0mtimeout\u001b[0m\u001b[1;33m)\u001b[0m\u001b[1;33m\u001b[0m\u001b[0m\n\u001b[0m\u001b[0;32m    546\u001b[0m             \u001b[0mcallback\u001b[0m\u001b[1;33m(\u001b[0m\u001b[0moutput\u001b[0m\u001b[1;33m)\u001b[0m\u001b[1;33m\u001b[0m\u001b[0m\n\u001b[0;32m    547\u001b[0m             \u001b[1;32myield\u001b[0m \u001b[0moutput\u001b[0m\u001b[1;33m\u001b[0m\u001b[0m\n",
      "\u001b[1;32md:\\githubprojects\\htmap\\htmap\\maps.py\u001b[0m in \u001b[0;36m_load_output\u001b[1;34m(self, component, timeout)\u001b[0m\n\u001b[0;32m    472\u001b[0m             \u001b[1;32mreturn\u001b[0m \u001b[0mresult\u001b[0m\u001b[1;33m.\u001b[0m\u001b[0moutput\u001b[0m\u001b[1;33m\u001b[0m\u001b[0m\n\u001b[0;32m    473\u001b[0m         \u001b[1;32melif\u001b[0m \u001b[0mresult\u001b[0m\u001b[1;33m.\u001b[0m\u001b[0mstatus\u001b[0m \u001b[1;33m==\u001b[0m \u001b[1;34m'ERR'\u001b[0m\u001b[1;33m:\u001b[0m\u001b[1;33m\u001b[0m\u001b[0m\n\u001b[1;32m--> 474\u001b[1;33m             \u001b[1;32mraise\u001b[0m \u001b[0mexceptions\u001b[0m\u001b[1;33m.\u001b[0m\u001b[0mMapComponentError\u001b[0m\u001b[1;33m(\u001b[0m\u001b[1;34mf'component {component} of map {self.map_id} encountered error while executing. Error report:\\n{self._load_error(component).report()}'\u001b[0m\u001b[1;33m)\u001b[0m\u001b[1;33m\u001b[0m\u001b[0m\n\u001b[0m\u001b[0;32m    475\u001b[0m         \u001b[1;32melse\u001b[0m\u001b[1;33m:\u001b[0m\u001b[1;33m\u001b[0m\u001b[0m\n\u001b[0;32m    476\u001b[0m             \u001b[1;32mraise\u001b[0m \u001b[0mexceptions\u001b[0m\u001b[1;33m.\u001b[0m\u001b[0mInvalidOutputStatus\u001b[0m\u001b[1;33m(\u001b[0m\u001b[1;34mf'output status {result.status} is not valid'\u001b[0m\u001b[1;33m)\u001b[0m\u001b[1;33m\u001b[0m\u001b[0m\n",
      "\u001b[1;31mMapComponentError\u001b[0m: component 0 of map tmp-1541480851-0 encountered error while executing. Error report:\n=========  Start error report for component 0 of map tmp-1541480851-0  =========\nLanded on execute node galain.eau.wi.charter.com (10.0.1.6) at 2018-11-06 05:07:33.948272\n\nPython executable is C:\\Program Files\\Python36\\python.exe (version 3.6.5 final)\nwith installed packages\n  cloudpickle==0.5.3\r\n  numpy==1.15.2\n\nWorking directory contents are\n  C:\\condor\\execute\\dir_18632\\.chirp.config\n  C:\\condor\\execute\\dir_18632\\.job.ad\n  C:\\condor\\execute\\dir_18632\\.machine.ad\n  C:\\condor\\execute\\dir_18632\\0.in\n  C:\\condor\\execute\\dir_18632\\condor_exec.py\n  C:\\condor\\execute\\dir_18632\\func\n  C:\\condor\\execute\\dir_18632\\_condor_stderr\n  C:\\condor\\execute\\dir_18632\\_condor_stdout\n\nException and traceback (most recent call last):\n  File \"<ipython-input-7-769ac4dfb4b6>\", line 3, in inverse\n    return 1 / x\n\n    Local variables:\n      x = 0\n\n  ZeroDivisionError: division by zero\n\n==========  End error report for component 0 of map tmp-1541480851-0  =========="
     ]
    }
   ],
   "source": [
    "bad_map = inverse.transient_map([0])\n",
    "list(bad_map)"
   ]
  },
  {
   "cell_type": "markdown",
   "metadata": {},
   "source": [
    "Neat!\n",
    "This traceback is, unfortunately, harder to read than the other one.\n",
    "We need to ignore everything above `MapComponentError: component 0 of map tmp-1541469343-1 encountered stderr while executing. Error report:` - it's just about the internal error that HTMap is raising to propagate the error to us.\n",
    "The real error is the stuff below `=========  Start error report for component 0 of map tmp-1541469343-1  =========`.\n",
    "\n",
    "Since we're trying to debug remotely, HTMap has gathered some metadata about the HTCondor \"execute node\" where the component was running.\n",
    "First it tell us where it is and when the component started executing.\n",
    "Next, the report tells us about the Python environment that was used to execute your function, including a list of installed packages.\n",
    "We also get a listing of the contents of the working directory - in this example, because we didn't add any extra input files, it's just a bunch of files that HTCondor and HTMap are using.\n",
    "\n",
    "The meat of the error is the last thing in the error report.\n",
    "We get roughly the same information that we got in the local traceback, but we also get a printout of the local variables in each stack frame."
   ]
  },
  {
   "cell_type": "markdown",
   "metadata": {},
   "source": [
    "Since the local HTMap error is raised as soon as it finds a bad component, you may find it convenient to look at _all_ of the error reports for your map (hopefully not too many!).\n",
    "[htmap.Map.error_reports](../api.rst#htmap.Map.error_reports) provides exactly this functionality:"
   ]
  },
  {
   "cell_type": "code",
   "execution_count": 10,
   "metadata": {},
   "outputs": [
    {
     "name": "stdout",
     "output_type": "stream",
     "text": [
      "==============  Start error report for component 0 of map worse  ===============\n",
      "Landed on execute node galain.eau.wi.charter.com (10.0.1.6) at 2018-11-06 05:07:44.016664\n",
      "\n",
      "Python executable is C:\\Program Files\\Python36\\python.exe (version 3.6.5 final)\n",
      "with installed packages\n",
      "  cloudpickle==0.5.3\n",
      "  numpy==1.15.2\n",
      "\n",
      "Working directory contents are\n",
      "  C:\\condor\\execute\\dir_15820\\.chirp.config\n",
      "  C:\\condor\\execute\\dir_15820\\.job.ad\n",
      "  C:\\condor\\execute\\dir_15820\\.machine.ad\n",
      "  C:\\condor\\execute\\dir_15820\\0.in\n",
      "  C:\\condor\\execute\\dir_15820\\condor_exec.py\n",
      "  C:\\condor\\execute\\dir_15820\\func\n",
      "  C:\\condor\\execute\\dir_15820\\_condor_stderr\n",
      "  C:\\condor\\execute\\dir_15820\\_condor_stdout\n",
      "\n",
      "Exception and traceback (most recent call last):\n",
      "  File \"<ipython-input-7-769ac4dfb4b6>\", line 3, in inverse\n",
      "    return 1 / x\n",
      "\n",
      "    Local variables:\n",
      "      x = 0\n",
      "\n",
      "  ZeroDivisionError: division by zero\n",
      "\n",
      "===============  End error report for component 0 of map worse  ================\n",
      "\n",
      "==============  Start error report for component 1 of map worse  ===============\n",
      "Landed on execute node galain.eau.wi.charter.com (10.0.1.6) at 2018-11-06 05:07:44.024664\n",
      "\n",
      "Python executable is C:\\Program Files\\Python36\\python.exe (version 3.6.5 final)\n",
      "with installed packages\n",
      "  cloudpickle==0.5.3\n",
      "  numpy==1.15.2\n",
      "\n",
      "Working directory contents are\n",
      "  C:\\condor\\execute\\dir_22476\\.chirp.config\n",
      "  C:\\condor\\execute\\dir_22476\\.job.ad\n",
      "  C:\\condor\\execute\\dir_22476\\.machine.ad\n",
      "  C:\\condor\\execute\\dir_22476\\1.in\n",
      "  C:\\condor\\execute\\dir_22476\\condor_exec.py\n",
      "  C:\\condor\\execute\\dir_22476\\func\n",
      "  C:\\condor\\execute\\dir_22476\\_condor_stderr\n",
      "  C:\\condor\\execute\\dir_22476\\_condor_stdout\n",
      "\n",
      "Exception and traceback (most recent call last):\n",
      "  File \"<ipython-input-7-769ac4dfb4b6>\", line 3, in inverse\n",
      "    return 1 / x\n",
      "\n",
      "    Local variables:\n",
      "      x = 0\n",
      "\n",
      "  ZeroDivisionError: division by zero\n",
      "\n",
      "===============  End error report for component 1 of map worse  ================\n",
      "\n",
      "==============  Start error report for component 2 of map worse  ===============\n",
      "Landed on execute node galain.eau.wi.charter.com (10.0.1.6) at 2018-11-06 05:07:44.064661\n",
      "\n",
      "Python executable is C:\\Program Files\\Python36\\python.exe (version 3.6.5 final)\n",
      "with installed packages\n",
      "  cloudpickle==0.5.3\n",
      "  numpy==1.15.2\n",
      "\n",
      "Working directory contents are\n",
      "  C:\\condor\\execute\\dir_11640\\.chirp.config\n",
      "  C:\\condor\\execute\\dir_11640\\.job.ad\n",
      "  C:\\condor\\execute\\dir_11640\\.machine.ad\n",
      "  C:\\condor\\execute\\dir_11640\\2.in\n",
      "  C:\\condor\\execute\\dir_11640\\condor_exec.py\n",
      "  C:\\condor\\execute\\dir_11640\\func\n",
      "  C:\\condor\\execute\\dir_11640\\_condor_stderr\n",
      "  C:\\condor\\execute\\dir_11640\\_condor_stdout\n",
      "\n",
      "Exception and traceback (most recent call last):\n",
      "  File \"<ipython-input-7-769ac4dfb4b6>\", line 3, in inverse\n",
      "    return 1 / x\n",
      "\n",
      "    Local variables:\n",
      "      x = 0\n",
      "\n",
      "  ZeroDivisionError: division by zero\n",
      "\n",
      "===============  End error report for component 2 of map worse  ================\n",
      "\n"
     ]
    }
   ],
   "source": [
    "htmap.remove('worse')\n",
    "worse_map = inverse.map('worse', [0, 0, 0])\n",
    "for report in worse_map.error_reports():\n",
    "    print(report + '\\n')"
   ]
  },
  {
   "cell_type": "markdown",
   "metadata": {},
   "source": [
    "Unlike holds, you generally won't want to re-run components that experienced errors (they'll just fail again).\n",
    "The only common case would be cases where you're having a dependency problem and can fix the error by changing something in your delivery method - for example, updating the Docker image that your map is using.\n",
    "\n",
    "Instead, an error is generally a signal that you've got a bug in your own code.\n",
    "Remove your map, debug the error locally, then create a new map."
   ]
  }
 ],
 "metadata": {
  "kernelspec": {
   "display_name": "Python [conda env:htmap]",
   "language": "python",
   "name": "conda-env-htmap-py"
  },
  "language_info": {
   "codemirror_mode": {
    "name": "ipython",
    "version": 3
   },
   "file_extension": ".py",
   "mimetype": "text/x-python",
   "name": "python",
   "nbconvert_exporter": "python",
   "pygments_lexer": "ipython3",
   "version": "3.6.6"
  }
 },
 "nbformat": 4,
 "nbformat_minor": 2
}
