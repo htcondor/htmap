{
 "cells": [
  {
   "cell_type": "markdown",
   "metadata": {},
   "source": [
    "# Map Options"
   ]
  },
  {
   "cell_type": "markdown",
   "metadata": {},
   "source": [
    "## Requesting Resources"
   ]
  },
  {
   "cell_type": "markdown",
   "metadata": {},
   "source": [
    "The most common kind of map option you'll probably need to work with are the ones for requests resources.\n",
    "HTMap makes fairly conservative default choices about the resources required by your map components.\n",
    "If your function needs a lot of resources, such as memory or disk space, you will need to communicate this to HTMap.\n",
    "\n",
    "Suppose we need to transfer a huge input file that we need to read into memory, so we need a lot of memory and disk space available on the execute node.\n",
    "We'll request 200 MB of RAM, 10 GB of disk space, and send our input file."
   ]
  },
  {
   "cell_type": "code",
   "execution_count": 1,
   "metadata": {},
   "outputs": [],
   "source": [
    "from pathlib import Path\n",
    "import htmap\n",
    "\n",
    "def read_huge_file(file):\n",
    "    contents = Path(file).read_text()\n",
    "\n",
    "    # do stuff\n",
    "\n",
    "    return contents  # we'll just return the contents here, but imagine this is the result of processing"
   ]
  },
  {
   "cell_type": "code",
   "execution_count": 2,
   "metadata": {},
   "outputs": [
    {
     "data": {
      "text/plain": [
       "42"
      ]
     },
     "execution_count": 2,
     "metadata": {},
     "output_type": "execute_result"
    }
   ],
   "source": [
    "huge_file = Path.cwd() / 'huge_file.txt'\n",
    "huge_file.write_text('only a few words, but use your imagination')"
   ]
  },
  {
   "cell_type": "markdown",
   "metadata": {},
   "source": [
    "(Don't panic! `write_text()` returns the number of bytes written.)"
   ]
  },
  {
   "cell_type": "markdown",
   "metadata": {},
   "source": [
    "And here's our map call:"
   ]
  },
  {
   "cell_type": "code",
   "execution_count": 3,
   "metadata": {},
   "outputs": [
    {
     "name": "stdout",
     "output_type": "stream",
     "text": [
      "['only a few words, but use your imagination']\n"
     ]
    }
   ],
   "source": [
    "processed = htmap.map(\n",
    "    read_huge_file,\n",
    "    [huge_file.name],\n",
    "    map_options = htmap.MapOptions(\n",
    "        input_files = [huge_file],\n",
    "        request_memory = '200MB',\n",
    "        request_disk = '10GB',\n",
    "    ),\n",
    ")\n",
    "\n",
    "print(list(processed))"
   ]
  },
  {
   "cell_type": "markdown",
   "metadata": {},
   "source": [
    "You may have noticed that, unlike `input_files`, `request_memory` and `request_disk` were passed as single strings.\n",
    "Since they are single strings, they will be treated as **fixed options** and applied to every component.\n",
    "If we wanted a different amount of RAM for each component, we could pass a list of strings to `request_memory`, just like we passed a list of input files."
   ]
  },
  {
   "cell_type": "code",
   "execution_count": 4,
   "metadata": {},
   "outputs": [],
   "source": [
    "huge_file.unlink()  # cleanup"
   ]
  },
  {
   "cell_type": "markdown",
   "metadata": {},
   "source": [
    "## The Kitchen Sink"
   ]
  },
  {
   "cell_type": "markdown",
   "metadata": {},
   "source": [
    "HTMap also supports **arbitrary HTCondor submit descriptors**, like you would see in a [submit file](http://research.cs.wisc.edu/htcondor/manual/current/condor_submit.html).\n",
    "Just pass them as keyword arguments to a [htmap.MapOptions](../api.rst#htmap.MapOptions), keeping in mind that you can use standard classad interpolation and that the same fixed/variadic behavior applies.\n",
    "\n",
    "If that didn't make sense, don't worry about it!\n",
    "The whole point of HTMap is to avoid needing to know too much about submit descriptors."
   ]
  },
  {
   "cell_type": "markdown",
   "metadata": {},
   "source": [
    "The [next tutorial](advanced-mapping.ipynb) discusses more convenient and flexible way of defining your maps."
   ]
  }
 ],
 "metadata": {
  "kernelspec": {
   "display_name": "Python 3",
   "language": "python",
   "name": "python3"
  },
  "language_info": {
   "codemirror_mode": {
    "name": "ipython",
    "version": 3
   },
   "file_extension": ".py",
   "mimetype": "text/x-python",
   "name": "python",
   "nbconvert_exporter": "python",
   "pygments_lexer": "ipython3",
   "version": "3.6.7"
  }
 },
 "nbformat": 4,
 "nbformat_minor": 2
}
