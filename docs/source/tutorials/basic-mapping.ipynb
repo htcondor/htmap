{
 "cells": [
  {
   "cell_type": "markdown",
   "metadata": {},
   "source": [
    "# Basic Mapping\n",
    "[![Binder](https://mybinder.org/badge_logo.svg)](https://mybinder.org/v2/gh/htcondor/htmap/master?urlpath=lab%2Ftree%2Fbasic-mapping.ipynb)"
   ]
  },
  {
   "cell_type": "markdown",
   "metadata": {},
   "source": [
    "## Tags"
   ]
  },
  {
   "cell_type": "markdown",
   "metadata": {},
   "source": [
    "In the previous tutorial, we used HTMap like this:"
   ]
  },
  {
   "cell_type": "code",
   "execution_count": 1,
   "metadata": {},
   "outputs": [],
   "source": [
    "import htmap\n",
    "\n",
    "def double(x):\n",
    "    return 2 * x"
   ]
  },
  {
   "cell_type": "code",
   "execution_count": 2,
   "metadata": {},
   "outputs": [
    {
     "name": "stdout",
     "output_type": "stream",
     "text": [
      "created map gentle-thin-scone with 10 components\n",
      "<Map(tag = gentle-thin-scone)>\n",
      "[0, 2, 4, 6, 8, 10, 12, 14, 16, 18]\n"
     ]
    }
   ],
   "source": [
    "mapped = htmap.map(double, range(10))\n",
    "print(mapped)\n",
    "doubled = list(mapped)\n",
    "print(doubled)"
   ]
  },
  {
   "cell_type": "markdown",
   "metadata": {},
   "source": [
    "In particular, we used the [htmap.map](https://htmap.readthedocs.io/en/stable/api.html#htmap.map) function to create our map.\n",
    "This function creates an object that behaves a lot like the iterator returned by the built-in [map](https://docs.python.org/3/library/functions.html#map) function.\n",
    "To get our output, we iterated over it using `list`.\n",
    "\n",
    "You may have noticed that the map has a **tag** associated with it.\n",
    "HTMap generated this tag for us because we didn't provide one, and because we didn't provide one, marked the map as **transient**, as opposed to **persistent**.\n",
    "Transient maps are for quick tests where we don't care too much about organization.\n",
    "Persistent maps are for longer-running maps where we want to keep our work organized by giving things real names.\n",
    "If you don't plan on using your map for more than one session, you can probably get away with a transient map.\n",
    "If you're going to step away from the computer and come back, we recommend giving it a real tag.\n",
    "\n",
    "The map we created above is transient:"
   ]
  },
  {
   "cell_type": "code",
   "execution_count": 3,
   "metadata": {},
   "outputs": [
    {
     "name": "stdout",
     "output_type": "stream",
     "text": [
      "True\n"
     ]
    }
   ],
   "source": [
    "print(mapped.is_transient)"
   ]
  },
  {
   "cell_type": "markdown",
   "metadata": {},
   "source": [
    "To create a persistent map, we need to give our map our map a tag:"
   ]
  },
  {
   "cell_type": "code",
   "execution_count": 4,
   "metadata": {},
   "outputs": [
    {
     "name": "stdout",
     "output_type": "stream",
     "text": [
      "created map dbl with 10 components\n",
      "<Map(tag = dbl)>\n",
      "False\n"
     ]
    }
   ],
   "source": [
    "another_map = htmap.map(double, range(10), tag = 'dbl')\n",
    "print(another_map)\n",
    "print(another_map.is_transient)"
   ]
  },
  {
   "cell_type": "markdown",
   "metadata": {},
   "source": [
    "We can also \"retag\" a map to give it a new tag.\n",
    "If you tag a transient map, it becomes persistent."
   ]
  },
  {
   "cell_type": "code",
   "execution_count": 5,
   "metadata": {},
   "outputs": [
    {
     "name": "stdout",
     "output_type": "stream",
     "text": [
      "<Map(tag = a-new-tag)>\n",
      "False\n"
     ]
    }
   ],
   "source": [
    "mapped.retag('a-new-tag')\n",
    "print(mapped)\n",
    "print(mapped.is_transient)"
   ]
  },
  {
   "cell_type": "markdown",
   "metadata": {},
   "source": [
    "## Working with Maps"
   ]
  },
  {
   "cell_type": "markdown",
   "metadata": {},
   "source": [
    "The object that was returned by [htmap.map](https://htmap.readthedocs.io/en/stable/api.html#htmap.map) is a [htmap.Map](https://htmap.readthedocs.io/en/stable/api.html#htmap.Map).\n",
    "It gives us a window into the map as it is running, and lets us use the output once the map is finished.\n",
    "\n",
    "For example, we can print the status of the map:"
   ]
  },
  {
   "cell_type": "code",
   "execution_count": 6,
   "metadata": {},
   "outputs": [
    {
     "name": "stdout",
     "output_type": "stream",
     "text": [
      "created map str with 10 components\n",
      "Map str (10 components): HELD = 0 | ERRORED = 0 | IDLE = 10 | RUNNING = 0 | COMPLETED = 0\n"
     ]
    }
   ],
   "source": [
    "stringified = htmap.map(str, range(10), tag = 'str')\n",
    "print(stringified.status())"
   ]
  },
  {
   "cell_type": "markdown",
   "metadata": {},
   "source": [
    "We can wait for the map to finish:"
   ]
  },
  {
   "cell_type": "code",
   "execution_count": 7,
   "metadata": {},
   "outputs": [
    {
     "name": "stderr",
     "output_type": "stream",
     "text": [
      "str: 100%|##########| 10/10 [00:35<00:00,  1.36s/component]\n"
     ]
    }
   ],
   "source": [
    "stringified.wait(show_progress_bar = True)"
   ]
  },
  {
   "cell_type": "markdown",
   "metadata": {},
   "source": [
    "There are many ways to iterate over maps:"
   ]
  },
  {
   "cell_type": "code",
   "execution_count": 8,
   "metadata": {},
   "outputs": [
    {
     "name": "stdout",
     "output_type": "stream",
     "text": [
      "['0', '1', '2', '3', '4', '5', '6', '7', '8', '9']\n",
      "0\n",
      "1\n",
      "2\n",
      "3\n",
      "4\n",
      "5\n",
      "6\n",
      "7\n",
      "8\n",
      "9\n"
     ]
    }
   ],
   "source": [
    "print(list(stringified))\n",
    "\n",
    "for d in stringified:\n",
    "    print(d)"
   ]
  },
  {
   "cell_type": "markdown",
   "metadata": {},
   "source": [
    "If we ever lose our reference to it, we can grab a new reference to it using [htmap.load](https://htmap.readthedocs.io/en/stable/api.html#htmap.load), giving it the tag of the map we want:"
   ]
  },
  {
   "cell_type": "code",
   "execution_count": 9,
   "metadata": {},
   "outputs": [
    {
     "name": "stdout",
     "output_type": "stream",
     "text": [
      "<Map(tag = str)>\n",
      "True\n",
      "True\n"
     ]
    }
   ],
   "source": [
    "new_ref = htmap.load('str')\n",
    "\n",
    "print(new_ref)\n",
    "print(new_ref == stringified)\n",
    "print(new_ref is stringified)  # maps are singletons"
   ]
  },
  {
   "cell_type": "markdown",
   "metadata": {},
   "source": [
    "Maps can be recovered from an entirely different Python interpreter session as well.\n",
    "Suppose you close Python and go on vacation.\n",
    "You come back and you want to look at your map again, but you've forgotten what you called it.\n",
    "Just ask HTMap for a list of your tags:"
   ]
  },
  {
   "cell_type": "code",
   "execution_count": 10,
   "metadata": {},
   "outputs": [
    {
     "name": "stdout",
     "output_type": "stream",
     "text": [
      "('dbl', 'a-new-tag', 'str')\n"
     ]
    }
   ],
   "source": [
    "print(htmap.get_tags())"
   ]
  },
  {
   "cell_type": "markdown",
   "metadata": {},
   "source": [
    "Ok, well, technically it was a tuple, but we'll have to live with it.\n",
    "\n",
    "HTMap can also print a pretty table showing the status of your maps:"
   ]
  },
  {
   "cell_type": "code",
   "execution_count": 11,
   "metadata": {},
   "outputs": [
    {
     "name": "stdout",
     "output_type": "stream",
     "text": [
      "created map proud-sleek-badge with 5 components\n",
      "Tag                  HELD  ERRORED  IDLE  RUNNING  COMPLETED  Local Data  Max Memory  Max Runtime  Total Runtime\n",
      "a-new-tag             0       0      0       0         10      44.8 KB      0.0 B       0:00:00       0:00:00   \n",
      "dbl                   0       0      0       0         10      44.7 KB      0.0 B       0:00:00       0:00:00   \n",
      "str                   0       0      0       0         10      44.2 KB      0.0 B       0:00:00       0:00:00   \n",
      "* proud-sleek-badge   0       0      5       0         0        2.2 KB      0.0 B       0:00:00       0:00:00   \n"
     ]
    }
   ],
   "source": [
    "htmap.map(str, range(5))  # new transient map\n",
    "print(htmap.status())"
   ]
  },
  {
   "cell_type": "markdown",
   "metadata": {},
   "source": [
    "Note that transient maps have a `*` in front of their tags.\n",
    "\n",
    "The status message tells us about how many components of our map are in each of the five most common component states:\n",
    "\n",
    "* **Idle** - component is waiting to run\n",
    "* **Running** - component is currently executing remotely\n",
    "* **Completed** - component is finished executing and output is available\n",
    "* **Held** - HTCondor has noticed a problem with the component and is not letting it run\n",
    "* **Errored** - there was an error in your code, and HTMap has brought back error information\n",
    "\n",
    "The status of each component of your map is available using the map attribute `component_statuses`:"
   ]
  },
  {
   "cell_type": "code",
   "execution_count": 12,
   "metadata": {},
   "outputs": [
    {
     "name": "stdout",
     "output_type": "stream",
     "text": [
      "[<ComponentStatus.COMPLETED: 'COMPLETED'>, <ComponentStatus.COMPLETED: 'COMPLETED'>, <ComponentStatus.COMPLETED: 'COMPLETED'>, <ComponentStatus.COMPLETED: 'COMPLETED'>, <ComponentStatus.COMPLETED: 'COMPLETED'>, <ComponentStatus.COMPLETED: 'COMPLETED'>, <ComponentStatus.COMPLETED: 'COMPLETED'>, <ComponentStatus.COMPLETED: 'COMPLETED'>, <ComponentStatus.COMPLETED: 'COMPLETED'>, <ComponentStatus.COMPLETED: 'COMPLETED'>]\n"
     ]
    }
   ],
   "source": [
    "print(new_ref.component_statuses)"
   ]
  },
  {
   "cell_type": "markdown",
   "metadata": {},
   "source": [
    "We'll discuss what to do about held and errored components and how to interact with component statuses in the [Error Handling](error-handling.ipynb) tutorial."
   ]
  },
  {
   "cell_type": "markdown",
   "metadata": {},
   "source": [
    "Tags are *unique*: if we try to create another map with a tag we've already used, it will fail:"
   ]
  },
  {
   "cell_type": "code",
   "execution_count": 13,
   "metadata": {},
   "outputs": [
    {
     "ename": "TagAlreadyExists",
     "evalue": "the requested tag dbl already exists (recover the Map, then either use or delete it).",
     "output_type": "error",
     "traceback": [
      "\u001b[0;31m---------------------------------------------------------------------------\u001b[0m",
      "\u001b[0;31mTagAlreadyExists\u001b[0m                          Traceback (most recent call last)",
      "\u001b[0;32m<ipython-input-13-397c48e54a47>\u001b[0m in \u001b[0;36m<module>\u001b[0;34m\u001b[0m\n\u001b[0;32m----> 1\u001b[0;31m \u001b[0mnew_map\u001b[0m \u001b[0;34m=\u001b[0m \u001b[0mhtmap\u001b[0m\u001b[0;34m.\u001b[0m\u001b[0mmap\u001b[0m\u001b[0;34m(\u001b[0m\u001b[0mdouble\u001b[0m\u001b[0;34m,\u001b[0m \u001b[0mrange\u001b[0m\u001b[0;34m(\u001b[0m\u001b[0;36m10\u001b[0m\u001b[0;34m)\u001b[0m\u001b[0;34m,\u001b[0m \u001b[0mtag\u001b[0m \u001b[0;34m=\u001b[0m \u001b[0;34m'dbl'\u001b[0m\u001b[0;34m)\u001b[0m\u001b[0;34m\u001b[0m\u001b[0m\n\u001b[0m",
      "\u001b[0;32m~/htmap/htmap/mapping.py\u001b[0m in \u001b[0;36mmap\u001b[0;34m(func, args, map_options, tag)\u001b[0m\n\u001b[1;32m     82\u001b[0m         \u001b[0mfunc\u001b[0m\u001b[0;34m,\u001b[0m\u001b[0;34m\u001b[0m\u001b[0m\n\u001b[1;32m     83\u001b[0m         \u001b[0margs_and_kwargs\u001b[0m\u001b[0;34m,\u001b[0m\u001b[0;34m\u001b[0m\u001b[0m\n\u001b[0;32m---> 84\u001b[0;31m         \u001b[0mmap_options\u001b[0m \u001b[0;34m=\u001b[0m \u001b[0mmap_options\u001b[0m\u001b[0;34m,\u001b[0m\u001b[0;34m\u001b[0m\u001b[0m\n\u001b[0m\u001b[1;32m     85\u001b[0m     )\n\u001b[1;32m     86\u001b[0m \u001b[0;34m\u001b[0m\u001b[0m\n",
      "\u001b[0;32m~/htmap/htmap/mapping.py\u001b[0m in \u001b[0;36mcreate_map\u001b[0;34m(tag, func, args_and_kwargs, map_options)\u001b[0m\n\u001b[1;32m    272\u001b[0m \u001b[0;34m\u001b[0m\u001b[0m\n\u001b[1;32m    273\u001b[0m     \u001b[0mtags\u001b[0m\u001b[0;34m.\u001b[0m\u001b[0mraise_if_tag_is_invalid\u001b[0m\u001b[0;34m(\u001b[0m\u001b[0mtag\u001b[0m\u001b[0;34m)\u001b[0m\u001b[0;34m\u001b[0m\u001b[0m\n\u001b[0;32m--> 274\u001b[0;31m     \u001b[0mtags\u001b[0m\u001b[0;34m.\u001b[0m\u001b[0mraise_if_tag_already_exists\u001b[0m\u001b[0;34m(\u001b[0m\u001b[0mtag\u001b[0m\u001b[0;34m)\u001b[0m\u001b[0;34m\u001b[0m\u001b[0m\n\u001b[0m\u001b[1;32m    275\u001b[0m \u001b[0;34m\u001b[0m\u001b[0m\n\u001b[1;32m    276\u001b[0m     \u001b[0mlogger\u001b[0m\u001b[0;34m.\u001b[0m\u001b[0mdebug\u001b[0m\u001b[0;34m(\u001b[0m\u001b[0;34mf'creating map {tag}...'\u001b[0m\u001b[0;34m)\u001b[0m\u001b[0;34m\u001b[0m\u001b[0m\n",
      "\u001b[0;32m~/htmap/htmap/tags.py\u001b[0m in \u001b[0;36mraise_if_tag_already_exists\u001b[0;34m(tag)\u001b[0m\n\u001b[1;32m     23\u001b[0m     \u001b[0;34m\"\"\"Raise a :class:`htmap.exceptions.TagAlreadyExists` if the ``tag`` already exists.\"\"\"\u001b[0m\u001b[0;34m\u001b[0m\u001b[0m\n\u001b[1;32m     24\u001b[0m     \u001b[0;32mif\u001b[0m \u001b[0mtag_file_path\u001b[0m\u001b[0;34m(\u001b[0m\u001b[0mtag\u001b[0m\u001b[0;34m)\u001b[0m\u001b[0;34m.\u001b[0m\u001b[0mexists\u001b[0m\u001b[0;34m(\u001b[0m\u001b[0;34m)\u001b[0m\u001b[0;34m:\u001b[0m\u001b[0;34m\u001b[0m\u001b[0m\n\u001b[0;32m---> 25\u001b[0;31m         \u001b[0;32mraise\u001b[0m \u001b[0mexceptions\u001b[0m\u001b[0;34m.\u001b[0m\u001b[0mTagAlreadyExists\u001b[0m\u001b[0;34m(\u001b[0m\u001b[0;34mf'the requested tag {tag} already exists (recover the Map, then either use or delete it).'\u001b[0m\u001b[0;34m)\u001b[0m\u001b[0;34m\u001b[0m\u001b[0m\n\u001b[0m\u001b[1;32m     26\u001b[0m \u001b[0;34m\u001b[0m\u001b[0m\n\u001b[1;32m     27\u001b[0m \u001b[0;34m\u001b[0m\u001b[0m\n",
      "\u001b[0;31mTagAlreadyExists\u001b[0m: the requested tag dbl already exists (recover the Map, then either use or delete it)."
     ]
    }
   ],
   "source": [
    "new_map = htmap.map(double, range(10), tag = 'dbl')"
   ]
  },
  {
   "cell_type": "markdown",
   "metadata": {},
   "source": [
    "As the error message indicates, if we want to re-use the tag `dbl`, we need to remove the old map first:"
   ]
  },
  {
   "cell_type": "code",
   "execution_count": 14,
   "metadata": {},
   "outputs": [],
   "source": [
    "old_map = htmap.load('dbl')\n",
    "old_map.remove()"
   ]
  },
  {
   "cell_type": "markdown",
   "metadata": {},
   "source": [
    "[htmap.Map.remove](https://htmap.readthedocs.io/en/stable/api.html#htmap.Map.remove) deletes all traces of the map.\n",
    "**It can never be recovered**.\n",
    "Be careful when using it!\n",
    "\n",
    "The module-level shortcut [htmap.remove](https://htmap.readthedocs.io/en/stable/api.html#htmap.remove) lets you skip the intermediate step of getting the actual Map, if you don't already have it."
   ]
  },
  {
   "cell_type": "markdown",
   "metadata": {},
   "source": [
    "Now we can re-use the map ID:"
   ]
  },
  {
   "cell_type": "code",
   "execution_count": 15,
   "metadata": {},
   "outputs": [
    {
     "name": "stderr",
     "output_type": "stream",
     "text": [
      "dbl:   0%|          | 0/10 [00:00<?, ?component/s]"
     ]
    },
    {
     "name": "stdout",
     "output_type": "stream",
     "text": [
      "created map dbl with 10 components\n"
     ]
    },
    {
     "name": "stderr",
     "output_type": "stream",
     "text": [
      "dbl: 100%|##########| 10/10 [00:18<00:00,  1.53s/component]"
     ]
    },
    {
     "name": "stdout",
     "output_type": "stream",
     "text": [
      "[0, 2, 4, 6, 8, 10, 12, 14, 16, 18]\n"
     ]
    },
    {
     "name": "stderr",
     "output_type": "stream",
     "text": [
      "\n"
     ]
    }
   ],
   "source": [
    "new_map = htmap.map(double, range(10), tag = 'dbl')\n",
    "new_map.wait(show_progress_bar = True)\n",
    "print(list(new_map))"
   ]
  },
  {
   "cell_type": "markdown",
   "metadata": {},
   "source": [
    "## Map Builders\n",
    "\n",
    "So far we've been avoiding any functions that needed to be mapped over keyword arguments, or that had more than one positional argument.\n",
    "`htmap.map` is not really the ideal tool for working with functions that have more than one argument, and it does not support varying more than one argument at all.\n",
    "\n",
    "A much more ergonomic way to build up a complex map is a **map builder**.\n",
    "A map builder lets you build a map via individual function calls.\n",
    "Call [htmap.build_map](https://htmap.readthedocs.io/en/stable/api.html#htmap.build_map) as a context manager to get the builder, then call the builder as if it were the mapped function itself:"
   ]
  },
  {
   "cell_type": "code",
   "execution_count": 16,
   "metadata": {},
   "outputs": [
    {
     "name": "stdout",
     "output_type": "stream",
     "text": [
      "created map rare-wise-stream with 12 components\n",
      "[1, 1, 1, 2, 4, 8, 3, 9, 27, 4, 16, 64]\n"
     ]
    }
   ],
   "source": [
    "def power(base, exponent):\n",
    "    return base ** exponent\n",
    "\n",
    "with htmap.build_map(power) as pow_builder:\n",
    "    for base in range(1, 5):  # bases are 1, 2, 3, 4\n",
    "        for exponent in range(1, 4):  # exponents are 1, 2, 3\n",
    "            pow_builder(base, exponent)\n",
    "\n",
    "powered = pow_builder.map\n",
    "print(list(powered))  # 1^1, 1^2, 1^3, 2^1, 2^2, 2^3, 3^1 ..."
   ]
  },
  {
   "cell_type": "markdown",
   "metadata": {},
   "source": [
    "The map builder catches the function calls and turns them into a map.\n",
    "The map is created when the `with` block ends, at which point you can grab the actual [htmap.Map](https://htmap.readthedocs.io/en/stable/api.html#htmap.Map) from the builder's `map` attribute."
   ]
  },
  {
   "cell_type": "markdown",
   "metadata": {},
   "source": [
    "---\n",
    "In the [next tutorial](working-with-files.ipynb), we'll see how to tell HTMap to bring a local file along to the execute node."
   ]
  }
 ],
 "metadata": {
  "kernelspec": {
   "display_name": "Python 3",
   "language": "python",
   "name": "python3"
  },
  "language_info": {
   "codemirror_mode": {
    "name": "ipython",
    "version": 3
   },
   "file_extension": ".py",
   "mimetype": "text/x-python",
   "name": "python",
   "nbconvert_exporter": "python",
   "pygments_lexer": "ipython3",
   "version": "3.7.4"
  }
 },
 "nbformat": 4,
 "nbformat_minor": 4
}
