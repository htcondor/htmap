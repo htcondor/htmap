{
 "cells": [
  {
   "cell_type": "markdown",
   "metadata": {},
   "source": [
    "# Working with Files"
   ]
  },
  {
   "cell_type": "markdown",
   "metadata": {},
   "source": [
    "High-throughput computing often involves analyzing data stored in files.\n",
    "HTMap provides a way of specifying which files to send where, but we have to know a little bit about how HTCondor thinks about file transfer for this to work."
   ]
  },
  {
   "cell_type": "markdown",
   "metadata": {},
   "source": [
    "## File Transfer\n",
    "\n",
    "The critical thing to keep in mind is this: **any files or directories that you transfer to the execute node are placed in the a directory that will become the working directory of your mapped function**.\n",
    "That means that when you're telling HTMap what to transfer, you need to use **local paths**, but when you're writing your function itself, **everything will be relative to the current working directory**.\n",
    "\n",
    "To see this, let's make a simple function that returns the name and contents of the current working directory:"
   ]
  },
  {
   "cell_type": "code",
   "execution_count": 1,
   "metadata": {},
   "outputs": [],
   "source": [
    "import htmap\n",
    "\n",
    "from pathlib import Path  # pathlib rules, os.path drools\n",
    "\n",
    "# mapped functions must take at least one argument\n",
    "# if you don't need one, _ is a good signal for \"I don't need this\"\n",
    "def where_am_i(_): \n",
    "    cwd = Path.cwd()\n",
    "    contents = list(cwd.iterdir())\n",
    "    \n",
    "    return cwd, contents"
   ]
  },
  {
   "cell_type": "code",
   "execution_count": 2,
   "metadata": {},
   "outputs": [
    {
     "name": "stdout",
     "output_type": "stream",
     "text": [
      "current working directory: /home/jovyan/.condor/jupyter_htcondor_state/execute/dir_5772\n",
      "contents:\n",
      "/home/jovyan/.condor/jupyter_htcondor_state/execute/dir_5772/_condor_stderr\n",
      "/home/jovyan/.condor/jupyter_htcondor_state/execute/dir_5772/.chirp.config\n",
      "/home/jovyan/.condor/jupyter_htcondor_state/execute/dir_5772/condor_exec.exe\n",
      "/home/jovyan/.condor/jupyter_htcondor_state/execute/dir_5772/.job.ad\n",
      "/home/jovyan/.condor/jupyter_htcondor_state/execute/dir_5772/_condor_stdout\n",
      "/home/jovyan/.condor/jupyter_htcondor_state/execute/dir_5772/.machine.ad\n",
      "/home/jovyan/.condor/jupyter_htcondor_state/execute/dir_5772/_htmap_transfer\n",
      "/home/jovyan/.condor/jupyter_htcondor_state/execute/dir_5772/0.in\n",
      "/home/jovyan/.condor/jupyter_htcondor_state/execute/dir_5772/func\n"
     ]
    }
   ],
   "source": [
    "map = htmap.map(where_am_i, [None])\n",
    "# same as above: None is a good argument when you don't have anything to send in\n",
    "\n",
    "# extract the output of the first-and-only component\n",
    "# and unpack it's contents using tuple unpacking\n",
    "cwd, contents = map.get(0) \n",
    "\n",
    "print('current working directory:', cwd)\n",
    "print('contents:')\n",
    "for c in contents:\n",
    "    print(c)"
   ]
  },
  {
   "cell_type": "markdown",
   "metadata": {},
   "source": [
    "As you can see, the working directory during execution isn't our local working directory."
   ]
  },
  {
   "cell_type": "markdown",
   "metadata": {},
   "source": [
    "Now let's transfer a file in there and see where it ends up.\n",
    "Make a local file in a subdirectory relative to your local working directory."
   ]
  },
  {
   "cell_type": "code",
   "execution_count": 3,
   "metadata": {},
   "outputs": [
    {
     "name": "stdout",
     "output_type": "stream",
     "text": [
      "/home/jovyan/work/htmap_file_tutorial\n",
      "/home/jovyan/work/htmap_file_tutorial/hello-world.txt\n"
     ]
    }
   ],
   "source": [
    "subdir = Path.cwd() / 'htmap_file_tutorial'\n",
    "print(subdir)\n",
    "file = subdir / 'hello-world.txt'\n",
    "print(file)"
   ]
  },
  {
   "cell_type": "code",
   "execution_count": 4,
   "metadata": {},
   "outputs": [
    {
     "data": {
      "text/plain": [
       "12"
      ]
     },
     "execution_count": 4,
     "metadata": {},
     "output_type": "execute_result"
    }
   ],
   "source": [
    "subdir.mkdir(exist_ok = True)\n",
    "file.write_text('Hello world!')"
   ]
  },
  {
   "cell_type": "markdown",
   "metadata": {},
   "source": [
    "To tell HTMap to transfer this file, we need to pass an instance of [htmap.MapOptions](../api.rst#htmap.MapOptions) to our map call."
   ]
  },
  {
   "cell_type": "code",
   "execution_count": 5,
   "metadata": {},
   "outputs": [
    {
     "name": "stdout",
     "output_type": "stream",
     "text": [
      "current working directory: /home/jovyan/.condor/jupyter_htcondor_state/execute/dir_5789\n",
      "contents:\n",
      "/home/jovyan/.condor/jupyter_htcondor_state/execute/dir_5789/_condor_stderr\n",
      "/home/jovyan/.condor/jupyter_htcondor_state/execute/dir_5789/.chirp.config\n",
      "/home/jovyan/.condor/jupyter_htcondor_state/execute/dir_5789/condor_exec.exe\n",
      "/home/jovyan/.condor/jupyter_htcondor_state/execute/dir_5789/.job.ad\n",
      "/home/jovyan/.condor/jupyter_htcondor_state/execute/dir_5789/_condor_stdout\n",
      "/home/jovyan/.condor/jupyter_htcondor_state/execute/dir_5789/.machine.ad\n",
      "/home/jovyan/.condor/jupyter_htcondor_state/execute/dir_5789/hello-world.txt\n",
      "/home/jovyan/.condor/jupyter_htcondor_state/execute/dir_5789/_htmap_transfer\n",
      "/home/jovyan/.condor/jupyter_htcondor_state/execute/dir_5789/0.in\n",
      "/home/jovyan/.condor/jupyter_htcondor_state/execute/dir_5789/func\n"
     ]
    }
   ],
   "source": [
    "map = htmap.map(\n",
    "    where_am_i,\n",
    "    [None],\n",
    "    map_options = htmap.MapOptions(\n",
    "        input_files = [file],  # the entire local path to the file!\n",
    "    ),\n",
    ")\n",
    "\n",
    "cwd, contents = map.get(0)\n",
    "print('current working directory:', cwd)\n",
    "print('contents:')\n",
    "for c in contents:\n",
    "    print(c)"
   ]
  },
  {
   "cell_type": "markdown",
   "metadata": {},
   "source": [
    "In the `input_files` keyword argument we passed the **local** path, stored in the variable `file`.\n",
    "But on the execute node, the file shows up in the working directory.\n",
    "\n",
    "For example, to read the file, we would need to do this:"
   ]
  },
  {
   "cell_type": "code",
   "execution_count": 6,
   "metadata": {},
   "outputs": [],
   "source": [
    "def hello_world(_):\n",
    "    return Path('hello-world.txt').read_text()\n",
    "    # relative path on the execute node, \n",
    "    # because the file in the current working directory there\n",
    "    "
   ]
  },
  {
   "cell_type": "code",
   "execution_count": 7,
   "metadata": {},
   "outputs": [
    {
     "name": "stdout",
     "output_type": "stream",
     "text": [
      "Hello world!\n"
     ]
    }
   ],
   "source": [
    "map = htmap.map(\n",
    "    hello_world,\n",
    "    [None],\n",
    "    map_options = htmap.MapOptions(\n",
    "        input_files = [file],  # the absolute local path\n",
    "    ),\n",
    ")\n",
    "print(map.get(0))"
   ]
  },
  {
   "cell_type": "markdown",
   "metadata": {},
   "source": [
    "To summarize:\n",
    "\n",
    "* In [htmap.MapOptions](../api.rst#htmap.MapOptions), paths are **local paths on the submit node**, but they're all dumped into the **current working directory on the execute node**.\n",
    "* In map inputs and map function bodies, paths are **local paths on the execute node**."
   ]
  },
  {
   "cell_type": "markdown",
   "metadata": {},
   "source": [
    "Beyond that, it's simple.\n",
    "Anything you can do with a file locally, you can do on the execute node: with one caveat.\n",
    "HTMap does not support custom output files.\n",
    "Therefore, if you want to bring back output data, you'll need to actually return it from your mapped function (or dump the data somewhere else over the internet)."
   ]
  },
  {
   "cell_type": "markdown",
   "metadata": {},
   "source": [
    "## Fixed and Variadic Inputs Files\n",
    "\n",
    "HTMap supports two kinds of input files: \n",
    "\n",
    "* **Fixed input files**, which are sent to every component of the map\n",
    "* **Variadic input files**, which are mapped over just like your function inputs are."
   ]
  },
  {
   "cell_type": "markdown",
   "metadata": {},
   "source": [
    "To show the different between them, let's write a functions that checks whether the contents of a \"test\" file are the same as the contents of a \"master\" file.\n",
    "We'll make a map where we pass a few files in as test files (these will be **variadic**), with a single master file to compare them against (**fixed**)."
   ]
  },
  {
   "cell_type": "code",
   "execution_count": 8,
   "metadata": {},
   "outputs": [],
   "source": [
    "def compare_files(test_file, master_file = None):\n",
    "    test = Path(test_file)\n",
    "    master = Path(master_file)\n",
    "    \n",
    "    return test.read_text() == master.read_text()"
   ]
  },
  {
   "cell_type": "markdown",
   "metadata": {},
   "source": [
    "And here's some input files:"
   ]
  },
  {
   "cell_type": "code",
   "execution_count": 9,
   "metadata": {},
   "outputs": [
    {
     "name": "stdout",
     "output_type": "stream",
     "text": [
      "master file: /home/jovyan/work/htmap_file_tutorial/master.txt\n",
      "test files:\n",
      "/home/jovyan/work/htmap_file_tutorial/a.txt\n",
      "/home/jovyan/work/htmap_file_tutorial/b.txt\n",
      "/home/jovyan/work/htmap_file_tutorial/c.txt\n",
      "/home/jovyan/work/htmap_file_tutorial/d.txt\n",
      "/home/jovyan/work/htmap_file_tutorial/e.txt\n",
      "/home/jovyan/work/htmap_file_tutorial/f.txt\n"
     ]
    }
   ],
   "source": [
    "# use local relative paths to keep ourselves sane\n",
    "\n",
    "subdir = Path.cwd() / 'htmap_file_tutorial'\n",
    "master_file = subdir / 'master.txt'\n",
    "test_files = [subdir / '{}.txt'.format(letter) for letter in 'abcdef']\n",
    "print('master file:', master_file)\n",
    "print('test files:')\n",
    "for file in test_files:\n",
    "    print(file)"
   ]
  },
  {
   "cell_type": "markdown",
   "metadata": {},
   "source": [
    "Now let's write something to those files.\n",
    "We'll put `'hello'` in the master file, and alternate between `'hello'` and `'goodbye'` in the test files."
   ]
  },
  {
   "cell_type": "code",
   "execution_count": 10,
   "metadata": {},
   "outputs": [],
   "source": [
    "subdir.mkdir(exist_ok = True)\n",
    "\n",
    "master_file.write_text('hello')\n",
    "\n",
    "for index, test_file in enumerate(test_files):\n",
    "    test_file.write_text('hello' if index % 2 == 0 else 'goodbye')"
   ]
  },
  {
   "cell_type": "markdown",
   "metadata": {},
   "source": [
    "One last piece of setup: the function inputs can't be the actual path objects, because `compare_files` is expecting the name of the input files to come in as plain strings.\n",
    "We can get that from a `Path` object like this:"
   ]
  },
  {
   "cell_type": "code",
   "execution_count": 11,
   "metadata": {},
   "outputs": [
    {
     "data": {
      "text/plain": [
       "'master.txt'"
      ]
     },
     "execution_count": 11,
     "metadata": {},
     "output_type": "execute_result"
    }
   ],
   "source": [
    "master_file.name"
   ]
  },
  {
   "cell_type": "markdown",
   "metadata": {},
   "source": [
    "This will be by far our most complicated map yet.\n",
    "I'll add some comments to each line to try to clarify what everything does."
   ]
  },
  {
   "cell_type": "code",
   "execution_count": 12,
   "metadata": {},
   "outputs": [],
   "source": [
    "map = htmap.map(\n",
    "    compare_files,\n",
    "    (file.name for file in test_files),  # these are the inputs we map over: they become the first argument to compare_files\n",
    "    master_file = master_file.name,  # this keyword argument is passed to all components\n",
    "    map_options = htmap.MapOptions(\n",
    "        fixed_input_files = [master_file],  # here we give it the actual Path object, representing the local path\n",
    "        input_files = test_files,  # the list of test file Path objects, which will be mapped over\n",
    "    ),\n",
    ")"
   ]
  },
  {
   "cell_type": "markdown",
   "metadata": {},
   "source": [
    "Note that we had to manually \"align\" the function arguments and the `input_files`.\n",
    "This is an unfortunate duplication of effort and information.\n",
    "If you ever figure out a way to fix that, please submit a pull request..."
   ]
  },
  {
   "cell_type": "code",
   "execution_count": 13,
   "metadata": {},
   "outputs": [
    {
     "name": "stdout",
     "output_type": "stream",
     "text": [
      "[True, False, True, False, True, False]\n"
     ]
    }
   ],
   "source": [
    "print(list(map))"
   ]
  },
  {
   "cell_type": "markdown",
   "metadata": {},
   "source": [
    "Huzzah!"
   ]
  },
  {
   "cell_type": "markdown",
   "metadata": {},
   "source": [
    "If you're following along at home, run this block to clean up the test files:"
   ]
  },
  {
   "cell_type": "code",
   "execution_count": 14,
   "metadata": {},
   "outputs": [],
   "source": [
    "import shutil\n",
    "shutil.rmtree(str(subdir))"
   ]
  },
  {
   "cell_type": "markdown",
   "metadata": {},
   "source": [
    "The [next tutorial](map-options.ipynb) will discuss the other major use for [htmap.MapOptions](../api.rst#htmap.MapOptions): passing metadata about your map's requirements to HTCondor."
   ]
  }
 ],
 "metadata": {
  "kernelspec": {
   "display_name": "Python 3",
   "language": "python",
   "name": "python3"
  },
  "language_info": {
   "codemirror_mode": {
    "name": "ipython",
    "version": 3
   },
   "file_extension": ".py",
   "mimetype": "text/x-python",
   "name": "python",
   "nbconvert_exporter": "python",
   "pygments_lexer": "ipython3",
   "version": "3.6.7"
  }
 },
 "nbformat": 4,
 "nbformat_minor": 2
}
