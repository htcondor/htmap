{
 "cells": [
  {
   "cell_type": "markdown",
   "metadata": {
    "pycharm": {}
   },
   "source": [
    "# First Steps\n",
    "[![Binder](https://mybinder.org/badge_logo.svg)](https://mybinder.org/v2/gh/htcondor/htmap/master?urlpath=lab/tree/tutorials/first-steps.ipynb)"
   ]
  },
  {
   "cell_type": "markdown",
   "metadata": {
    "pycharm": {}
   },
   "source": [
    "## Setup\n",
    "\n",
    "**The fastest and easiest way to make sure you have a working setup (as described below) is to go through these tutorials on Binder**\n",
    "[![Binder](https://mybinder.org/badge_logo.svg)](https://mybinder.org/v2/gh/htcondor/htmap/master?urlpath=lab/tree/tutorials/first-steps.ipynb)\n",
    "\n",
    "This tutorial assumes that you've already installed HTMap on your HTCondor pool's submit node,\n",
    "or have access to HTMap through a JupyterHub server connected to an HTCondor pool or similar.\n",
    "See [How do I install HTMap?](../faq.rst#how-do-i-install-htmap) for details!\n",
    "\n",
    "This tutorial also assumes that you're working in a Jupyter Notebook.\n",
    "It will work just as well in the Python REPL.\n",
    "Later, once you get a hang things, you'll be ready to use HTMap in scripts as well.\n",
    "Either way, you'll need to be on a computer that can submit jobs to an HTCondor pool.\n",
    "\n",
    "This tutorial assumes that you have already set up your dependency management, as described in [Dependency Management](../dependencies.rst).\n",
    "If your HTCondor pool supports Docker, you'll be good to go with the default settings.\n",
    "\n",
    "The tutorials in this series are written inside Juypter Notebooks.\n",
    "If you click the \"View page source\" link in the upper right corner, you'll be able to grab the raw `.ipynb` file yourself and step through it along with the tutorial."
   ]
  },
  {
   "cell_type": "markdown",
   "metadata": {
    "pycharm": {}
   },
   "source": [
    "## The Problem\n",
    "\n",
    "Suppose you've been given the task of writing a function that doubles numbers, like this:"
   ]
  },
  {
   "cell_type": "code",
   "execution_count": 1,
   "metadata": {
    "pycharm": {}
   },
   "outputs": [],
   "source": [
    "def double(x):\n",
    "    return 2 * x"
   ]
  },
  {
   "cell_type": "markdown",
   "metadata": {
    "pycharm": {}
   },
   "source": [
    "If you want to double a list of numbers, you might do something like"
   ]
  },
  {
   "cell_type": "code",
   "execution_count": 2,
   "metadata": {
    "pycharm": {}
   },
   "outputs": [
    {
     "name": "stdout",
     "output_type": "stream",
     "text": [
      "[0, 2, 4, 6, 8, 10, 12, 14, 16, 18]\n"
     ]
    }
   ],
   "source": [
    "doubled = [double(x) for x in range(10)]\n",
    "print(doubled)"
   ]
  },
  {
   "cell_type": "markdown",
   "metadata": {
    "pycharm": {}
   },
   "source": [
    "or we can use the built-in function `map()`, which applies a function to each element of an iterable (like a list):"
   ]
  },
  {
   "cell_type": "code",
   "execution_count": 3,
   "metadata": {
    "pycharm": {}
   },
   "outputs": [
    {
     "name": "stdout",
     "output_type": "stream",
     "text": [
      "<map object at 0x7f40c4435320>\n",
      "[0, 2, 4, 6, 8, 10, 12, 14, 16, 18]\n"
     ]
    }
   ],
   "source": [
    "mapped = map(double, range(10))\n",
    "print(mapped)\n",
    "doubled = list(mapped)\n",
    "print(doubled)"
   ]
  },
  {
   "cell_type": "markdown",
   "metadata": {
    "pycharm": {}
   },
   "source": [
    "In both cases, `doubled` is the list `[0, 2, 4, ...]`.\n",
    "The reason we need the `list` call is that `map` actually returns an *iterator* over the results, not the results themselves.\n",
    "So you need to iterate over it to get the output, which is what `list` does: iterate over its input and put the elements in a list."
   ]
  },
  {
   "cell_type": "markdown",
   "metadata": {
    "pycharm": {}
   },
   "source": [
    "Now suppose that, for some reason, you want to double *a lot* of numbers.\n",
    "So many numbers that you can't bear to do all the work on your own computer.\n",
    "It takes days to multiply all the numbers, and if your program crashes halfway through, you lose all of of your progress and have to start over.\n",
    "You're losing sleep, and your boss is breathing down your neck because they need those numbers doubled *now*.\n",
    "\n",
    "Luckily, you remember that you have access to an HTCondor high-throughput computing pool.\n",
    "Since each of your function calls is isolated from all the others, the computers in the pool don't need to talk to each other at all, and you can achieve a huge speedup.\n",
    "The pool can run your code on hundreds or thousands of computers simultaneously, storing the inputs and outputs for you and recovering from individual errors gracefully.\n",
    "It's the perfect solution.\n",
    "\n",
    "The problem is: *how do you get your code running in the pool?*"
   ]
  },
  {
   "cell_type": "markdown",
   "metadata": {
    "pycharm": {}
   },
   "source": [
    "## The Solution\n",
    "\n",
    "With HTMap, it's like this:"
   ]
  },
  {
   "cell_type": "code",
   "execution_count": 4,
   "metadata": {
    "pycharm": {}
   },
   "outputs": [
    {
     "name": "stdout",
     "output_type": "stream",
     "text": [
      "created map wicked-coy-foot with 10 components\n",
      "<Map(tag = wicked-coy-foot)>\n",
      "[0, 2, 4, 6, 8, 10, 12, 14, 16, 18]\n"
     ]
    }
   ],
   "source": [
    "import htmap\n",
    "\n",
    "mapped = htmap.map(double, range(10))\n",
    "print(mapped)\n",
    "doubled = list(mapped)\n",
    "print(doubled)"
   ]
  },
  {
   "cell_type": "markdown",
   "metadata": {
    "pycharm": {}
   },
   "source": [
    "It may take some time for the second `print` to run.\n",
    "During that time, the individual **components** of your **map** are being run out on the cluster on execute nodes.\n",
    "Once they all finish, you'll get the list of numbers back.\n",
    "As you can see, the output is identical to what you would get from running the function locally."
   ]
  },
  {
   "cell_type": "markdown",
   "metadata": {
    "pycharm": {}
   },
   "source": [
    "---\n",
    "In the [next tutorial](basic-mapping.ipynb) we'll start digging into the extra features that HTMap provides on top of this basic functionality."
   ]
  }
 ],
 "metadata": {
  "kernelspec": {
   "display_name": "Python 3",
   "language": "python",
   "name": "python3"
  },
  "language_info": {
   "codemirror_mode": {
    "name": "ipython",
    "version": 3
   },
   "file_extension": ".py",
   "mimetype": "text/x-python",
   "name": "python",
   "nbconvert_exporter": "python",
   "pygments_lexer": "ipython3",
   "version": "3.6.6"
  }
 },
 "nbformat": 4,
 "nbformat_minor": 2
}
