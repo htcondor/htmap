{
 "cells": [
  {
   "cell_type": "markdown",
   "metadata": {},
   "source": [
    "# Advanced Mapping"
   ]
  },
  {
   "cell_type": "markdown",
   "metadata": {},
   "source": [
    "So far we've built our maps using the top-level mapping functions.\n",
    "These functions are useful for tutorials, but don't give us the full flexibility that we might need when working with arbitrary Python functions.\n",
    "They're also sometimes inconvenient to use, especially if you don't like typing the names of your functions over and over.\n",
    "The tools described in this tutorial fix those problems."
   ]
  },
  {
   "cell_type": "markdown",
   "metadata": {},
   "source": [
    "## Starmap\n",
    "\n",
    "So far, we've been carefully avoiding any functions that needed to be mapped over keyword arguments, or that had more than one positional argument.\n",
    "When we did use a keyword argument, in [Working With Files](working-with-files.ipynb), we noted that [htmap.map](../api.rst#htmap.map) applies the same keyword arguments to each component.\n",
    "[htmap.starmap](../api.rst#htmap.starmap) provides the flexibility to completely specify the positional and keyword arguments for every component.\n",
    "\n",
    "Unfortunately, that looks like this:"
   ]
  },
  {
   "cell_type": "code",
   "execution_count": 1,
   "metadata": {},
   "outputs": [],
   "source": [
    "import htmap\n",
    "\n",
    "def power(x, p = 1):\n",
    "        return x ** p"
   ]
  },
  {
   "cell_type": "code",
   "execution_count": 2,
   "metadata": {},
   "outputs": [
    {
     "name": "stdout",
     "output_type": "stream",
     "text": [
      "[1, 4, 27]\n"
     ]
    }
   ],
   "source": [
    "starmap = htmap.starmap(\n",
    "    func = power,\n",
    "    args = [\n",
    "        (1,),\n",
    "        (2,),\n",
    "        (3,),\n",
    "    ],\n",
    "    kwargs = [\n",
    "        {'p': 1},\n",
    "        {'p': 2},\n",
    "        {'p': 3},\n",
    "    ],\n",
    ")\n",
    "\n",
    "print(list(starmap))  # [1, 4, 27]"
   ]
  },
  {
   "cell_type": "markdown",
   "metadata": {},
   "source": [
    "A slightly more pleasant but less obvious way to construct the arguments would be like this:"
   ]
  },
  {
   "cell_type": "code",
   "execution_count": 3,
   "metadata": {},
   "outputs": [
    {
     "name": "stdout",
     "output_type": "stream",
     "text": [
      "[1, 4, 27]\n"
     ]
    }
   ],
   "source": [
    "starmap = htmap.starmap(\n",
    "    func = power,\n",
    "    args = ((x,) for x in range(1, 4)),\n",
    "    kwargs = ({'p': p} for p in range(1, 4)),\n",
    ")\n",
    "\n",
    "print(list(starmap))  # [1, 4, 27]"
   ]
  },
  {
   "cell_type": "markdown",
   "metadata": {},
   "source": [
    "But that isn't really a huge improvement.\n",
    "Sometimes you'll need the power and compactness of `starmap`, but we recommend using..."
   ]
  },
  {
   "cell_type": "markdown",
   "metadata": {},
   "source": [
    "## Map Builders\n",
    "\n",
    "A map builder lets you build a map piece-by-piece.\n",
    "To get a map builder, call [htmap.build_map](../api.rst#htmap.build_map) as a context manager, then call it as if it were the mapped function itself:"
   ]
  },
  {
   "cell_type": "code",
   "execution_count": 4,
   "metadata": {},
   "outputs": [
    {
     "name": "stdout",
     "output_type": "stream",
     "text": [
      "[1, 4, 27]\n"
     ]
    }
   ],
   "source": [
    "with htmap.build_map(func = power) as builder:\n",
    "    for x in range(1, 4):\n",
    "        builder(x, p = x)\n",
    "\n",
    "map = builder.map\n",
    "print(list(map))  # [1, 4, 27]"
   ]
  },
  {
   "cell_type": "markdown",
   "metadata": {},
   "source": [
    "The map builder catches the function calls and turns them into a map.\n",
    "The map is created when the `with` block ends, and at that point you can grab the actual [htmap.Map](../api.rst#htmap.Map) from the builder's `.map` attribute."
   ]
  },
  {
   "cell_type": "markdown",
   "metadata": {},
   "source": [
    "## Mapped Functions\n",
    "\n",
    "If you're tired of re-typing the name of your function all the time, create a [htmap.MappedFunction](../api.rst#htmap.MappedFunction) using the [htmap.mapped](../api.rst#htmap.mapped) decorator:"
   ]
  },
  {
   "cell_type": "code",
   "execution_count": 5,
   "metadata": {},
   "outputs": [
    {
     "name": "stdout",
     "output_type": "stream",
     "text": [
      "<MappedFunction(func = <function double at 0x7f0a79564510>, map_options = {})>\n"
     ]
    }
   ],
   "source": [
    "@htmap.mapped\n",
    "def double(x):\n",
    "    return 2 * x\n",
    "\n",
    "print(double)"
   ]
  },
  {
   "cell_type": "markdown",
   "metadata": {},
   "source": [
    "The resulting `MappedFunction` has methods that correspond to all the mapping functions, but with the function already filled in.\n",
    "\n",
    "For example:"
   ]
  },
  {
   "cell_type": "code",
   "execution_count": 6,
   "metadata": {},
   "outputs": [
    {
     "name": "stdout",
     "output_type": "stream",
     "text": [
      "[0, 2, 4, 6, 8, 10, 12, 14, 16, 18]\n"
     ]
    }
   ],
   "source": [
    "doubled = double.map(range(10))\n",
    "\n",
    "print(list(doubled))  # [0, 2, 4, 6, 8, 10, 12, 14, 16, 18]"
   ]
  },
  {
   "cell_type": "markdown",
   "metadata": {},
   "source": [
    "The real utility of mapped functions is that they can carry default map options, which are **inherited** by any maps created from them.\n",
    "For example, we could have written the file comparison function from [Working With Files](working-with-files.ipynb) like this:"
   ]
  },
  {
   "cell_type": "code",
   "execution_count": 7,
   "metadata": {},
   "outputs": [],
   "source": [
    "@htmap.mapped(map_options = htmap.MapOptions(fixed_input_files = ['master.txt']))\n",
    "def compare_files(test_file, master_file = None):\n",
    "    test = Path(test_file)\n",
    "    master = Path(master_file)\n",
    "    \n",
    "    return test.read_text() == master.read_text()"
   ]
  },
  {
   "cell_type": "markdown",
   "metadata": {},
   "source": [
    "Now we always transfer the master file, without needing to specify it in the `MapOptions` of the actual `map` call.\n",
    "\n",
    "See [htmap.MapOptions](../api.rst#htmap.MapOptions) for some notes about how these inherited map options behave."
   ]
  },
  {
   "cell_type": "markdown",
   "metadata": {},
   "source": [
    "In the [next tutorial](error-handling.ipynb) we'll finally address the most important part of programming: what to do when things go wrong!"
   ]
  }
 ],
 "metadata": {
  "kernelspec": {
   "display_name": "Python 3",
   "language": "python",
   "name": "python3"
  },
  "language_info": {
   "codemirror_mode": {
    "name": "ipython",
    "version": 3
   },
   "file_extension": ".py",
   "mimetype": "text/x-python",
   "name": "python",
   "nbconvert_exporter": "python",
   "pygments_lexer": "ipython3",
   "version": "3.6.7"
  }
 },
 "nbformat": 4,
 "nbformat_minor": 2
}
