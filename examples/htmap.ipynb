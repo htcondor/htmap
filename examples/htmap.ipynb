{
 "cells": [
  {
   "cell_type": "markdown",
   "metadata": {},
   "source": [
    "# htmap\n",
    "\n",
    "This is a notebook to show how the prototype `htmap` library (https://github.com/JoshKarpel/htmap) works.\n",
    "\n",
    "If you've messed up your cache directory somehow, running `rm -rf ~/.htmap` will delete everything in your cache directory."
   ]
  },
  {
   "cell_type": "code",
   "execution_count": 2,
   "metadata": {},
   "outputs": [],
   "source": [
    "import htmap"
   ]
  },
  {
   "cell_type": "markdown",
   "metadata": {},
   "source": [
    "## Functional Interface (`map`-like)\n",
    "\n",
    "`htmap` currently has two interfaces. The first is a very \"functional\", map-based interface."
   ]
  },
  {
   "cell_type": "code",
   "execution_count": null,
   "metadata": {},
   "outputs": [],
   "source": [
    "def double(x):\n",
    "    return 2 * x"
   ]
  },
  {
   "cell_type": "markdown",
   "metadata": {},
   "source": [
    "Python's built-in `map` function works like this:"
   ]
  },
  {
   "cell_type": "code",
   "execution_count": null,
   "metadata": {},
   "outputs": [],
   "source": [
    "doubled = list(map(double, range(10)))\n",
    "doubled"
   ]
  },
  {
   "cell_type": "markdown",
   "metadata": {},
   "source": [
    "To do the same with `htmap`, we just use the `map` function it provides instead. Note that `htmap` has persistence for completed jobs, so if you get a `clusterid` of `None`, you already have the outputs for all of your inputs cached."
   ]
  },
  {
   "cell_type": "code",
   "execution_count": null,
   "metadata": {},
   "outputs": [],
   "source": [
    "result = htmap.map('double', double, range(20))\n",
    "result"
   ]
  },
  {
   "cell_type": "markdown",
   "metadata": {},
   "source": [
    "That function returns a `MapResult` which we can use to get information about the running jobs.\n",
    "\n",
    "For example, we can call its `tail` method to tail the cluster log. Note that this runs forever, so you'll need to interrupt the Jupyter kernel (black square along the top bar) to run the next cell."
   ]
  },
  {
   "cell_type": "code",
   "execution_count": null,
   "metadata": {},
   "outputs": [],
   "source": [
    "result.tail()"
   ]
  },
  {
   "cell_type": "markdown",
   "metadata": {},
   "source": [
    "To see the results, we iterate over the `MapResult` (passing it into the `list` constructor does this interally)."
   ]
  },
  {
   "cell_type": "code",
   "execution_count": null,
   "metadata": {},
   "outputs": [],
   "source": [
    "doubled_htc = list(result)\n",
    "doubled_htc"
   ]
  },
  {
   "cell_type": "markdown",
   "metadata": {},
   "source": [
    "## Functional Interface w/ Decorator\n",
    "\n",
    "The second interface has the same functional flavor to it, but uses a decorator on the function itself.\n",
    "\n",
    "For those who care, the first interface is doing the same thing, but just hides the decorator from you.\n",
    "\n",
    "I'll also use a slightly more complicated function to show off some other features. This function has two arguments, and one of them is a keyword argument."
   ]
  },
  {
   "cell_type": "code",
   "execution_count": null,
   "metadata": {},
   "outputs": [],
   "source": [
    "@htmap.htmap\n",
    "def power(x, p = 1):\n",
    "    return x ** p\n",
    "\n",
    "power"
   ]
  },
  {
   "cell_type": "markdown",
   "metadata": {},
   "source": [
    "As you can see, `power` is not actually a function, but instead a `HTCMapper` which has a reference to the real function inside it. Because of Python voodoo, you can still call it like a normal function:"
   ]
  },
  {
   "cell_type": "code",
   "execution_count": null,
   "metadata": {},
   "outputs": [],
   "source": [
    "power(5, 3)"
   ]
  },
  {
   "cell_type": "markdown",
   "metadata": {},
   "source": [
    "We can't use `map` now because it only accepts a one-dimensional input. Instead, we'll use `starmap`. Both `map` and `starmap` are now methods of the `HTCMapper` object. That does mean we have to contort things a little so that we're passing lists of tuples and dictionaries to `starmap`, which looks a little weird."
   ]
  },
  {
   "cell_type": "code",
   "execution_count": null,
   "metadata": {},
   "outputs": [],
   "source": [
    "xs = [(x,) for x in range(10)]\n",
    "powers = [{'p': p} for p in range(10)]\n",
    "\n",
    "power_result = power.starmap(xs, powers)\n",
    "power_result"
   ]
  },
  {
   "cell_type": "markdown",
   "metadata": {},
   "source": [
    "We can iterate over the result ourselves. By doing it this way, they'll come back in order as soon as possible. The outputs should be 0^0, 1^1, 2^2, 3^3, etc. We'll use the `iter_with_inputs` method to see how the inputs are mapped to the outputs."
   ]
  },
  {
   "cell_type": "code",
   "execution_count": null,
   "metadata": {},
   "outputs": [],
   "source": [
    "for inp, out in power_result.iter_with_inputs():\n",
    "    print(f'{inp} -> {out}')"
   ]
  },
  {
   "cell_type": "markdown",
   "metadata": {},
   "source": [
    "## Looping Interface\n",
    "\n",
    "The other interface is built to look like the same looping constructs that people are probably using before they start doing any HTC.\n",
    "\n",
    "It relies on Python's `with` statement, which lets you run code before and after a block of code runs. It looks like this."
   ]
  },
  {
   "cell_type": "code",
   "execution_count": null,
   "metadata": {},
   "outputs": [],
   "source": [
    "def triple(x):\n",
    "    return 3 * x"
   ]
  },
  {
   "cell_type": "code",
   "execution_count": null,
   "metadata": {},
   "outputs": [],
   "source": [
    "with htmap.build_job('triple', triple) as job_builder:\n",
    "    for x in range(10):\n",
    "        job_builder(x)\n",
    "        \n",
    "triple_result = job_builder.result\n",
    "triple_result"
   ]
  },
  {
   "cell_type": "markdown",
   "metadata": {},
   "source": [
    "Note that once we create the `JobBuilder`, stored in the variable `job_builder`, just call it as if it was the function we wanted to do a map on. The `JobBuilder` catches the calls and feeds them into the same backend that does the mapping above. I really like this because it's super-simple: you don't need to do anything weird with the arguments to fit them into the right shape for the map. If you can call your function normally, you can slap it in this `with` block, replace it with the `JobBuilder`, and do the map.\n",
    "\n",
    "This time we'll iterate in an unordered way, as jobs come back (the previous iterators went in order, as available)."
   ]
  },
  {
   "cell_type": "code",
   "execution_count": null,
   "metadata": {},
   "outputs": [],
   "source": [
    "for r in triple_result.iter_as_available():\n",
    "    print(r)"
   ]
  },
  {
   "cell_type": "markdown",
   "metadata": {},
   "source": [
    "## Looping Interface w/ Decorator\n",
    "\n",
    "Again, it's essentially the same, it's just that `build_job` is a method of the decorated function."
   ]
  },
  {
   "cell_type": "code",
   "execution_count": null,
   "metadata": {},
   "outputs": [],
   "source": [
    "@htmap.htmap\n",
    "def quadruple(x):\n",
    "    return 4 * x"
   ]
  },
  {
   "cell_type": "code",
   "execution_count": null,
   "metadata": {},
   "outputs": [],
   "source": [
    "with quadruple.build_job('quadruple') as job_builder:\n",
    "    for x in range(10):\n",
    "        job_builder(x)\n",
    "        \n",
    "quadruple_result = job_builder.result\n",
    "quadruple_result"
   ]
  },
  {
   "cell_type": "code",
   "execution_count": null,
   "metadata": {},
   "outputs": [],
   "source": [
    "for r in quadruple_result:\n",
    "    print(r)"
   ]
  },
  {
   "cell_type": "markdown",
   "metadata": {},
   "source": [
    "## Killing a Job\n",
    "\n",
    "We can kill all the jobs associated with a `MapResult` using the `remove()` method. At the moment, this does not remove any input or output files."
   ]
  },
  {
   "cell_type": "code",
   "execution_count": 3,
   "metadata": {},
   "outputs": [],
   "source": [
    "import time\n",
    "\n",
    "@htmap.htmap\n",
    "def sleep_and_double(x):\n",
    "    time.sleep(60)\n",
    "    return 2 * x"
   ]
  },
  {
   "cell_type": "code",
   "execution_count": 12,
   "metadata": {},
   "outputs": [
    {
     "name": "stdout",
     "output_type": "stream",
     "text": [
      "\n",
      "\n",
      "-- Schedd: jupyter0000.chtc.wisc.edu : <127.0.0.1:9618?... @ 07/30/18 20:59:54\n",
      "OWNER  BATCH_NAME          SUBMITTED   DONE   RUN    IDLE  TOTAL JOB_IDS\n",
      "karpel sleep_and_double   7/30 20:59      _      4      6     10 38.0-9\n",
      "\n",
      "Total for query: 10 jobs; 0 completed, 0 removed, 6 idle, 4 running, 0 held, 0 suspended \n",
      "Total for karpel: 10 jobs; 0 completed, 0 removed, 6 idle, 4 running, 0 held, 0 suspended \n",
      "Total for all users: 15 jobs; 0 completed, 0 removed, 6 idle, 4 running, 5 held, 0 suspended\n",
      "\n",
      "OUTPUT FROM REMOVE COMMAND\n",
      "\n",
      "    [\n",
      "        TotalJobAds = 15; \n",
      "        TotalPermissionDenied = 0; \n",
      "        TotalAlreadyDone = 0; \n",
      "        TotalNotFound = 0; \n",
      "        TotalSuccess = 10; \n",
      "        TotalChangedAds = 1; \n",
      "        TotalBadStatus = 0; \n",
      "        TotalError = 0\n",
      "    ]\n",
      "\n",
      "\n",
      "-- Schedd: jupyter0000.chtc.wisc.edu : <127.0.0.1:9618?... @ 07/30/18 20:59:57\n",
      "OWNER BATCH_NAME      SUBMITTED   DONE   RUN    IDLE   HOLD  TOTAL JOB_IDS\n",
      "\n",
      "Total for query: 0 jobs; 0 completed, 0 removed, 0 idle, 0 running, 0 held, 0 suspended \n",
      "Total for karpel: 0 jobs; 0 completed, 0 removed, 0 idle, 0 running, 0 held, 0 suspended \n",
      "Total for all users: 5 jobs; 0 completed, 0 removed, 0 idle, 0 running, 5 held, 0 suspended\n",
      "\n"
     ]
    }
   ],
   "source": [
    "sleepy_result = sleep_and_double.map(range(10))\n",
    "\n",
    "time.sleep(3)\n",
    "\n",
    "!condor_q\n",
    "\n",
    "rm_output = sleepy_result.remove()\n",
    "print('OUTPUT FROM REMOVE COMMAND')\n",
    "print(rm_output)\n",
    "\n",
    "time.sleep(3)\n",
    "\n",
    "!condor_q"
   ]
  },
  {
   "cell_type": "code",
   "execution_count": null,
   "metadata": {},
   "outputs": [],
   "source": []
  }
 ],
 "metadata": {
  "kernelspec": {
   "display_name": "Python 3",
   "language": "python",
   "name": "python3"
  },
  "language_info": {
   "codemirror_mode": {
    "name": "ipython",
    "version": 3
   },
   "file_extension": ".py",
   "mimetype": "text/x-python",
   "name": "python",
   "nbconvert_exporter": "python",
   "pygments_lexer": "ipython3",
   "version": "3.6.3"
  }
 },
 "nbformat": 4,
 "nbformat_minor": 2
}
