{
 "cells": [
  {
   "cell_type": "markdown",
   "metadata": {},
   "source": [
    "# Advanced Mapping\n",
    "[![Binder](https://mybinder.org/badge_logo.svg)](https://mybinder.org/v2/gh/htcondor/htmap/master?urlpath=lab/tree/tutorials/advanced-mapping.ipynb)"
   ]
  },
  {
   "cell_type": "markdown",
   "metadata": {},
   "source": [
    "So far we've built our maps using the top-level mapping functions.\n",
    "These functions are useful for tutorials, but don't give us the full flexibility that we might need when working with arbitrary Python functions.\n",
    "They're also sometimes inconvenient to use, especially if you don't like typing the names of your functions over and over.\n",
    "The tools described in this tutorial fix those problems."
   ]
  },
  {
   "cell_type": "markdown",
   "metadata": {},
   "source": [
    "## Starmap\n",
    "\n",
    "Back in [Working With Files](working-with-files.ipynb), we noted that [htmap.map](https://htmap.readthedocs.io/en/stable/api.html#htmap.map) was only able to handle functions that took a single argument.\n",
    "To work with a function that took two arguments, we needed to use [htmap.build_map](https://htmap.readthedocs.io/en/stable/api.html#htmap.build_map) to build up the map inside a loop.\n",
    "\n",
    "Sometimes, you don't want to loop.\n",
    "[htmap.starmap](../api.rst#htmap.starmap) provides the flexibility to completely specify the positional and keyword arguments for every component without needing an explicit `for`-loop.\n",
    "\n",
    "Unfortunately, that looks like this:"
   ]
  },
  {
   "cell_type": "code",
   "execution_count": 1,
   "metadata": {},
   "outputs": [],
   "source": [
    "import htmap\n",
    "\n",
    "def power(x, p = 1):\n",
    "        return x ** p"
   ]
  },
  {
   "cell_type": "code",
   "execution_count": 2,
   "metadata": {},
   "outputs": [
    {
     "name": "stdout",
     "output_type": "stream",
     "text": [
      "created map hollow-bland-zebra with 3 components\n",
      "[1, 4, 27]\n"
     ]
    }
   ],
   "source": [
    "starmap = htmap.starmap(\n",
    "    func = power,\n",
    "    args = [\n",
    "        (1,),\n",
    "        (2,),\n",
    "        (3,),\n",
    "    ],\n",
    "    kwargs = [\n",
    "        {'p': 1},\n",
    "        {'p': 2},\n",
    "        {'p': 3},\n",
    "    ],\n",
    ")\n",
    "\n",
    "print(list(starmap))  # [1, 4, 27]"
   ]
  },
  {
   "cell_type": "markdown",
   "metadata": {},
   "source": [
    "A slightly more pleasant but less obvious way to construct the arguments would be like this:"
   ]
  },
  {
   "cell_type": "code",
   "execution_count": 3,
   "metadata": {},
   "outputs": [
    {
     "name": "stdout",
     "output_type": "stream",
     "text": [
      "created map dry-puny-year with 3 components\n",
      "[1, 4, 27]\n"
     ]
    }
   ],
   "source": [
    "starmap = htmap.starmap(\n",
    "    func = power,\n",
    "    args = ((x,) for x in range(1, 4)),\n",
    "    kwargs = ({'p': p} for p in range(1, 4)),\n",
    ")\n",
    "\n",
    "print(list(starmap))  # [1, 4, 27]"
   ]
  },
  {
   "cell_type": "markdown",
   "metadata": {},
   "source": [
    "But that isn't really a huge improvement.\n",
    "Sometimes you'll need the power and compactness of `starmap`, but we recommend [htmap.build_map](https://htmap.readthedocs.io/en/stable/api.html#htmap.build_map) for general use."
   ]
  },
  {
   "cell_type": "markdown",
   "metadata": {},
   "source": [
    "## Mapped Functions\n",
    "\n",
    "If you're tired of typing `htmap.map` all the time, create a [htmap.MappedFunction](https://htmap.readthedocs.io/en/stable/api.html#htmap.build_map) using the [htmap.mapped](https://htmap.readthedocs.io/en/stable/api.html#htmap.mapped) decorator:"
   ]
  },
  {
   "cell_type": "code",
   "execution_count": 4,
   "metadata": {},
   "outputs": [
    {
     "name": "stdout",
     "output_type": "stream",
     "text": [
      "<MappedFunction(func = <function double at 0x7fddec16a7b8>, map_options = {})>\n"
     ]
    }
   ],
   "source": [
    "@htmap.mapped\n",
    "def double(x):\n",
    "    return 2 * x\n",
    "\n",
    "print(double)"
   ]
  },
  {
   "cell_type": "markdown",
   "metadata": {},
   "source": [
    "The resulting `MappedFunction` has methods that correspond to all the mapping functions, but with the function already filled in.\n",
    "\n",
    "For example:"
   ]
  },
  {
   "cell_type": "code",
   "execution_count": 5,
   "metadata": {},
   "outputs": [
    {
     "name": "stdout",
     "output_type": "stream",
     "text": [
      "created map dark-dizzy-apple with 10 components\n",
      "[0, 2, 4, 6, 8, 10, 12, 14, 16, 18]\n"
     ]
    }
   ],
   "source": [
    "doubled = double.map(range(10))\n",
    "\n",
    "print(list(doubled))  # [0, 2, 4, 6, 8, 10, 12, 14, 16, 18]"
   ]
  },
  {
   "cell_type": "markdown",
   "metadata": {},
   "source": [
    "The real utility of mapped functions is that they can carry default map options, which are **inherited** by any maps created from them.\n",
    "For example, if we know that a certain function will always need a large amount of memory and disk space, we can specify it for **any** map like this:"
   ]
  },
  {
   "cell_type": "code",
   "execution_count": 6,
   "metadata": {},
   "outputs": [],
   "source": [
    "@htmap.mapped(\n",
    "    map_options = htmap.MapOptions(\n",
    "        request_memory = '200MB',\n",
    "        request_disk = '1GB',\n",
    "    )\n",
    ")\n",
    "def big_list(_):\n",
    "    big = list(range(1_000_000))  # imagine this is way bigger...\n",
    "    return big"
   ]
  },
  {
   "cell_type": "markdown",
   "metadata": {},
   "source": [
    "Now our `request_memory` and `request_disk` will be set for each map, without needing to specify it in the `MapOptions` of each individual `map` call.\n",
    "We can still override the setting for a certain map by manually passing [htmap.MapOptions](https://htmap.readthedocs.io/en/stable/api.html#htmap.MapOptions).\n",
    "\n",
    "See [htmap.MapOptions](https://htmap.readthedocs.io/en/stable/api.html#htmap.MapOptions) for some notes about how these inherited map options behave."
   ]
  },
  {
   "cell_type": "markdown",
   "metadata": {},
   "source": [
    "## Non-Primitive Function Arguments"
   ]
  },
  {
   "cell_type": "markdown",
   "metadata": {},
   "source": [
    "So far we've mostly limited our mapped function arguments to Python primitives like integers or strings.\n",
    "However, HTMap will work with almost any Python object.\n",
    "For example, we can use a custom class as a function argument.\n",
    "Maybe we have some data on penguins, and we want to write a `Penguin` class to encapsulate that data:"
   ]
  },
  {
   "cell_type": "code",
   "execution_count": 7,
   "metadata": {},
   "outputs": [],
   "source": [
    "class Penguin:\n",
    "    def __init__(self, name, height, weight):\n",
    "        self.name = name\n",
    "        self.height = height\n",
    "        self.weight = weight\n",
    "        \n",
    "    def analyze(self):\n",
    "        return f'{self.name} is {self.height} inches tall and weighs {self.weight} pounds'\n",
    "        \n",
    "    def eat(self):\n",
    "        print('mmm, yummy fish')\n",
    "        \n",
    "    def fly(self):\n",
    "        raise TypeError(\"penguins can't fly!\")"
   ]
  },
  {
   "cell_type": "code",
   "execution_count": 8,
   "metadata": {},
   "outputs": [],
   "source": [
    "penguins = [\n",
    "    Penguin('Gwendolin', height = 73, weight = 51),\n",
    "    Penguin('Gweniffer', height = 59, weight = 43),\n",
    "    Penguin('Gary', height = 64, weight = 52),\n",
    "]"
   ]
  },
  {
   "cell_type": "code",
   "execution_count": 9,
   "metadata": {},
   "outputs": [
    {
     "name": "stderr",
     "output_type": "stream",
     "text": [
      "penguin-stats:   0%|          | 0/3 [00:00<?, ?component/s]"
     ]
    },
    {
     "name": "stdout",
     "output_type": "stream",
     "text": [
      "created map penguin-stats with 3 components\n"
     ]
    },
    {
     "name": "stderr",
     "output_type": "stream",
     "text": [
      "penguin-stats: 100%|##########| 3/3 [00:11<00:00,  1.31s/component]\n"
     ]
    }
   ],
   "source": [
    "map = htmap.map(\n",
    "    lambda p: p.analyze(),  # an anonmyous function; see https://docs.python.org/3/tutorial/controlflow.html#lambda-expressions\n",
    "    penguins,\n",
    "    tag = 'penguin-stats',\n",
    ")\n",
    "\n",
    "map.wait(show_progress_bar = True)"
   ]
  },
  {
   "cell_type": "code",
   "execution_count": 10,
   "metadata": {},
   "outputs": [
    {
     "name": "stdout",
     "output_type": "stream",
     "text": [
      "Gwendolin is 73 inches tall and weighs 51 pounds\n",
      "Gweniffer is 59 inches tall and weighs 43 pounds\n",
      "Gary is 64 inches tall and weighs 52 pounds\n"
     ]
    }
   ],
   "source": [
    "for stats in map:\n",
    "    print(stats)"
   ]
  },
  {
   "cell_type": "markdown",
   "metadata": {},
   "source": [
    "Specialized data structures like `numpy` arrays and `pandas` dataframes can also be used as function arguments. When in doubt, just try it!"
   ]
  },
  {
   "cell_type": "markdown",
   "metadata": {},
   "source": [
    "---\n",
    "In the [next tutorial](error-handling.ipynb) we'll finally address the most important part of programming: what to do when things go wrong!"
   ]
  }
 ],
 "metadata": {
  "kernelspec": {
   "display_name": "Python 3",
   "language": "python",
   "name": "python3"
  },
  "language_info": {
   "codemirror_mode": {
    "name": "ipython",
    "version": 3
   },
   "file_extension": ".py",
   "mimetype": "text/x-python",
   "name": "python",
   "nbconvert_exporter": "python",
   "pygments_lexer": "ipython3",
   "version": "3.6.6"
  }
 },
 "nbformat": 4,
 "nbformat_minor": 2
}
