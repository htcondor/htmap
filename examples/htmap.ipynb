{
 "cells": [
  {
   "cell_type": "markdown",
   "metadata": {},
   "source": [
    "# HTMap\n",
    "\n",
    "This is a notebook to show how the prototype `htmap` library (https://github.com/JoshKarpel/htmap) works.\n",
    "\n",
    "If you've messed up your cache directory somehow, running `htmap.clean()` will delete everything so you can start fresh.\n",
    "Note that each map call is given a `map_id`, which are unique.\n",
    "To run a new map with the same `map_id`, you must remove the old one.\n",
    "Tools for managing existing maps are shown in the section on management, after going through the interface sections."
   ]
  },
  {
   "cell_type": "code",
   "execution_count": null,
   "metadata": {},
   "outputs": [],
   "source": [
    "import htmap"
   ]
  },
  {
   "cell_type": "code",
   "execution_count": null,
   "metadata": {},
   "outputs": [],
   "source": [
    "htmap.clean()"
   ]
  },
  {
   "cell_type": "markdown",
   "metadata": {},
   "source": [
    "## Functional Interface (`map`-like)\n",
    "\n",
    "`htmap` currently has two interfaces. The first is a very \"functional\", map-based interface."
   ]
  },
  {
   "cell_type": "code",
   "execution_count": null,
   "metadata": {},
   "outputs": [],
   "source": [
    "def double(x):\n",
    "    return 2 * x"
   ]
  },
  {
   "cell_type": "markdown",
   "metadata": {},
   "source": [
    "Python's built-in `map` function works like this:"
   ]
  },
  {
   "cell_type": "code",
   "execution_count": null,
   "metadata": {},
   "outputs": [],
   "source": [
    "doubled = list(map(double, range(10)))\n",
    "doubled"
   ]
  },
  {
   "cell_type": "markdown",
   "metadata": {},
   "source": [
    "To do the same with `htmap`, we just use the `map` function it provides instead. Note that `htmap` has persistence for completed jobs, so if you get a `clusterid` of `None`, you already have the outputs for all of your inputs cached."
   ]
  },
  {
   "cell_type": "code",
   "execution_count": null,
   "metadata": {},
   "outputs": [],
   "source": [
    "result = htmap.map('double', double, range(10))\n",
    "result"
   ]
  },
  {
   "cell_type": "markdown",
   "metadata": {},
   "source": [
    "That function returns a `MapResult` which we can use to get information about the running jobs.\n",
    "\n",
    "For example, we can call its `tail` method to tail the cluster log.\n",
    "It doesn't look backwards in the log, so if you wait too long you may never see anything, and it may take a moment to see anything when you start it.\n",
    "Note that this runs forever, so you'll need to interrupt the Jupyter kernel (black square along the top bar) to run the next cell."
   ]
  },
  {
   "cell_type": "code",
   "execution_count": null,
   "metadata": {},
   "outputs": [],
   "source": [
    "result.tail()"
   ]
  },
  {
   "cell_type": "markdown",
   "metadata": {},
   "source": [
    "To see the results, we iterate over the `MapResult` (passing it into the `list` constructor does this internally)."
   ]
  },
  {
   "cell_type": "code",
   "execution_count": null,
   "metadata": {},
   "outputs": [],
   "source": [
    "doubled_htc = list(result)\n",
    "doubled_htc"
   ]
  },
  {
   "cell_type": "markdown",
   "metadata": {},
   "source": [
    "## Functional Interface w/ Decorator\n",
    "\n",
    "The second interface has the same functional flavor to it, but uses a decorator on the function itself.\n",
    "\n",
    "For those who care, the first interface is doing the same thing, but just hides the decorator from you.\n",
    "\n",
    "I'll also use a slightly more complicated function to show off some other features. This function has two arguments, and one of them is a keyword argument."
   ]
  },
  {
   "cell_type": "code",
   "execution_count": null,
   "metadata": {},
   "outputs": [],
   "source": [
    "@htmap.htmap\n",
    "def power(x, p = 1):\n",
    "    return x ** p\n",
    "\n",
    "power"
   ]
  },
  {
   "cell_type": "markdown",
   "metadata": {},
   "source": [
    "As you can see, `power` is not actually a function, but instead a `HTMapper` which has a reference to the real function inside it. Because of Python voodoo, you can still call it like a normal function, running entirely locally:"
   ]
  },
  {
   "cell_type": "code",
   "execution_count": null,
   "metadata": {},
   "outputs": [],
   "source": [
    "power(5, 3)"
   ]
  },
  {
   "cell_type": "markdown",
   "metadata": {},
   "source": [
    "We can't use `map` now because it only accepts a one-dimensional input. Instead, we'll use `starmap`. Both `map` and `starmap` are now methods of the `HTMapper` object. That does mean we have to contort things a little so that we're passing lists of tuples and dictionaries to `starmap`, which looks a little weird."
   ]
  },
  {
   "cell_type": "code",
   "execution_count": null,
   "metadata": {},
   "outputs": [],
   "source": [
    "xs = [(x,) for x in range(10)]\n",
    "powers = [{'p': p} for p in range(10)]\n",
    "\n",
    "power_result = power.starmap('power', xs, powers)\n",
    "power_result"
   ]
  },
  {
   "cell_type": "markdown",
   "metadata": {},
   "source": [
    "We can iterate over the result ourselves. By doing it this way, they'll come back in order as soon as possible. The outputs should be 0^0, 1^1, 2^2, 3^3, etc. We'll use the `iter_with_inputs` method to see how the inputs are mapped to the outputs."
   ]
  },
  {
   "cell_type": "code",
   "execution_count": null,
   "metadata": {},
   "outputs": [],
   "source": [
    "for inp, out in power_result.iter_with_inputs():\n",
    "    print(f'{inp} -> {out}')"
   ]
  },
  {
   "cell_type": "markdown",
   "metadata": {},
   "source": [
    "## Looping Interface\n",
    "\n",
    "The other interface is built to look like the same looping constructs that people are probably using before they start doing any HTC.\n",
    "\n",
    "It relies on Python's `with` statement, which lets you run code before and after a block of code runs. It looks like this."
   ]
  },
  {
   "cell_type": "code",
   "execution_count": null,
   "metadata": {},
   "outputs": [],
   "source": [
    "def triple(x):\n",
    "    return 3 * x"
   ]
  },
  {
   "cell_type": "code",
   "execution_count": null,
   "metadata": {},
   "outputs": [],
   "source": [
    "with htmap.build_map('triple', triple) as map_builder:\n",
    "    for x in range(10):\n",
    "        map_builder(x)\n",
    "        \n",
    "triple_result = map_builder.result\n",
    "triple_result"
   ]
  },
  {
   "cell_type": "markdown",
   "metadata": {},
   "source": [
    "Note that once we create the `MapBuilder`, stored in the variable `map_builder`, we can just call it as if it was the function we wanted to do a map on. The `MapBuilder` catches the calls and feeds them into the same backend that does the mapping above. I really like this because it's super-simple: you don't need to do anything weird with the arguments to fit them into the right shape for the map. If you can call your function normally, you can slap it in this `with` block, replace it with the `MapBuilder`, and do the map.\n",
    "\n",
    "This time we'll iterate in an unordered way, as jobs come back (the previous iterators went in order, as available)."
   ]
  },
  {
   "cell_type": "code",
   "execution_count": null,
   "metadata": {},
   "outputs": [],
   "source": [
    "for r in triple_result.iter_as_available():\n",
    "    print(r)"
   ]
  },
  {
   "cell_type": "markdown",
   "metadata": {},
   "source": [
    "## Looping Interface w/ Decorator\n",
    "\n",
    "Again, it's essentially the same, it's just that `build_map` is a method of the decorated function."
   ]
  },
  {
   "cell_type": "code",
   "execution_count": null,
   "metadata": {},
   "outputs": [],
   "source": [
    "@htmap.htmap\n",
    "def quadruple(x):\n",
    "    return 4 * x"
   ]
  },
  {
   "cell_type": "code",
   "execution_count": null,
   "metadata": {},
   "outputs": [],
   "source": [
    "with quadruple.build_map('quadruple') as map_builder:\n",
    "    for x in range(10):\n",
    "        map_builder(x)\n",
    "        \n",
    "quadruple_result = map_builder.result\n",
    "quadruple_result"
   ]
  },
  {
   "cell_type": "code",
   "execution_count": null,
   "metadata": {},
   "outputs": [],
   "source": [
    "for r in quadruple_result:\n",
    "    print(r)"
   ]
  },
  {
   "cell_type": "markdown",
   "metadata": {},
   "source": [
    "## Controlling Jobs\n",
    "\n",
    "You can interact with the jobs behind a map by calling methods on the `MapResult`. Let's define a sleepy function so that we have time to interact with the jobs while they're running.\n",
    "\n",
    "I'll use the command line `condor_q` here to prove that it's really working - eventually you'll be able to get the same information from the `MapResult` itself."
   ]
  },
  {
   "cell_type": "code",
   "execution_count": null,
   "metadata": {},
   "outputs": [],
   "source": [
    "import time\n",
    "\n",
    "@htmap.htmap\n",
    "def sleep_and_double(x):\n",
    "    time.sleep(60)\n",
    "    return 2 * x"
   ]
  },
  {
   "cell_type": "markdown",
   "metadata": {},
   "source": [
    "We can kill all the jobs associated with a `MapResult` using the `remove()` method.\n",
    "This also removes all of the input, output, and log files associated with that map.\n",
    "Therefore, this also frees up the `map_id` to use for another map."
   ]
  },
  {
   "cell_type": "code",
   "execution_count": null,
   "metadata": {},
   "outputs": [],
   "source": [
    "sleepy_result = sleep_and_double.map('sleepy', range(10))\n",
    "\n",
    "time.sleep(3)\n",
    "\n",
    "!condor_q\n",
    "\n",
    "rm_output = sleepy_result.remove()\n",
    "print('OUTPUT FROM REMOVE COMMAND')\n",
    "print(rm_output)\n",
    "\n",
    "time.sleep(3)\n",
    "\n",
    "!condor_q"
   ]
  },
  {
   "cell_type": "markdown",
   "metadata": {},
   "source": [
    "We can also hold and release jobs (and the rest of the job actions, but I won't go over them here)."
   ]
  },
  {
   "cell_type": "code",
   "execution_count": null,
   "metadata": {},
   "outputs": [],
   "source": [
    "sleepy_result = sleep_and_double.map('sleepy', range(10))\n",
    "\n",
    "time.sleep(3)\n",
    "\n",
    "!condor_q\n",
    "\n",
    "hold_output = sleepy_result.hold()\n",
    "print('OUTPUT FROM HOLD COMMAND')\n",
    "print(hold_output)\n",
    "\n",
    "time.sleep(1)\n",
    "\n",
    "!condor_q\n",
    "\n",
    "release_output = sleepy_result.release()\n",
    "print('OUTPUT FROM RELEASE COMMAND')\n",
    "print(release_output)\n",
    "\n",
    "time.sleep(1)\n",
    "\n",
    "!condor_q"
   ]
  },
  {
   "cell_type": "markdown",
   "metadata": {},
   "source": [
    "## Map ID Management\n",
    "\n",
    "To get a list of all of the `map_id`s you have stored, do"
   ]
  },
  {
   "cell_type": "code",
   "execution_count": null,
   "metadata": {},
   "outputs": [],
   "source": [
    "maps = htmap.maps()\n",
    "maps"
   ]
  },
  {
   "cell_type": "markdown",
   "metadata": {},
   "source": [
    "To recover an existing `map_id`, use the module-level `recover` function:"
   ]
  },
  {
   "cell_type": "code",
   "execution_count": null,
   "metadata": {},
   "outputs": [],
   "source": [
    "recovered_result = htmap.recover(maps[0])\n",
    "print(list(recovered_result))"
   ]
  },
  {
   "cell_type": "markdown",
   "metadata": {},
   "source": [
    "## Error Handling\n",
    "\n",
    "Let's make a job that we know will experience an exception on the execute node."
   ]
  },
  {
   "cell_type": "code",
   "execution_count": null,
   "metadata": {},
   "outputs": [],
   "source": [
    "@htmap.htmap\n",
    "def bad(x):\n",
    "    return x / 0"
   ]
  },
  {
   "cell_type": "code",
   "execution_count": null,
   "metadata": {},
   "outputs": [],
   "source": [
    "bad_result = bad.map('bad', range(10))\n",
    "bad_result"
   ]
  },
  {
   "cell_type": "markdown",
   "metadata": {},
   "source": [
    "Wait for the maps to finish (we can't use the `wait()` method because we aren't going to manage to produce any output files, which is what it's watching for)."
   ]
  },
  {
   "cell_type": "code",
   "execution_count": null,
   "metadata": {},
   "outputs": [],
   "source": [
    "bad_result.tail()"
   ]
  },
  {
   "cell_type": "markdown",
   "metadata": {},
   "source": [
    "Now we can inspect the stdout and stderr of each job using the `output` and `error` methods on the `MapResult`.\n",
    "The argument is the index of the input."
   ]
  },
  {
   "cell_type": "code",
   "execution_count": null,
   "metadata": {},
   "outputs": [],
   "source": [
    "print(bad_result.output(0))"
   ]
  },
  {
   "cell_type": "code",
   "execution_count": null,
   "metadata": {},
   "outputs": [],
   "source": [
    "print(bad_result.error(0))"
   ]
  },
  {
   "cell_type": "code",
   "execution_count": null,
   "metadata": {},
   "outputs": [],
   "source": []
  }
 ],
 "metadata": {
  "kernelspec": {
   "display_name": "Python 3",
   "language": "python",
   "name": "python3"
  },
  "language_info": {
   "codemirror_mode": {
    "name": "ipython",
    "version": 3
   },
   "file_extension": ".py",
   "mimetype": "text/x-python",
   "name": "python",
   "nbconvert_exporter": "python",
   "pygments_lexer": "ipython3",
   "version": "3.6.3"
  }
 },
 "nbformat": 4,
 "nbformat_minor": 2
}
