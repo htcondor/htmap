{
 "cells": [
  {
   "cell_type": "markdown",
   "metadata": {},
   "source": [
    "# Working with Files\n",
    "[![Binder](https://mybinder.org/badge_logo.svg)](https://mybinder.org/v2/gh/htcondor/htmap/master?urlpath=lab%2Ftree%2Fworking-with-files.ipynb)"
   ]
  },
  {
   "cell_type": "markdown",
   "metadata": {},
   "source": [
    "High-throughput computing often involves analyzing data stored in files.\n",
    "For many simple cases, HTMap can automatically work with files that you specify as arguments of your function without (much) special treatment."
   ]
  },
  {
   "cell_type": "markdown",
   "metadata": {},
   "source": [
    "Let's start with \"Hello world!\" example:"
   ]
  },
  {
   "cell_type": "code",
   "execution_count": 1,
   "metadata": {},
   "outputs": [],
   "source": [
    "from pathlib import Path\n",
    "\n",
    "def read_file(path: Path):\n",
    "    return path.read_text()"
   ]
  },
  {
   "cell_type": "markdown",
   "metadata": {},
   "source": [
    "This function takes in a [pathlib.Path](https://docs.python.org/3/library/pathlib.html), reads it, and returns its contents.\n",
    "Let's make a file and see how it works:"
   ]
  },
  {
   "cell_type": "code",
   "execution_count": 2,
   "metadata": {},
   "outputs": [
    {
     "name": "stdout",
     "output_type": "stream",
     "text": [
      "/home/jovyan/tutorials/hi.txt\n"
     ]
    },
    {
     "data": {
      "text/plain": [
       "12"
      ]
     },
     "execution_count": 2,
     "metadata": {},
     "output_type": "execute_result"
    }
   ],
   "source": [
    "hi_path = Path.cwd() / 'hi.txt'\n",
    "print(hi_path)\n",
    "hi_path.write_text('Hello world!')"
   ]
  },
  {
   "cell_type": "code",
   "execution_count": 3,
   "metadata": {},
   "outputs": [
    {
     "name": "stdout",
     "output_type": "stream",
     "text": [
      "Hello world!\n"
     ]
    }
   ],
   "source": [
    "print(read_file(hi_path))"
   ]
  },
  {
   "cell_type": "markdown",
   "metadata": {},
   "source": [
    "(pathlib has a steeper learning curve than `os.path`, but it's well worth the effort!)"
   ]
  },
  {
   "cell_type": "markdown",
   "metadata": {},
   "source": [
    "Now, let's start mapping.\n",
    "In this case, the map call is barely different than the original function call, but we need to set up the inputs correctly.\n",
    "The trick is that, instead of a `pathlib.Path`, we need to use a [htmap.TransferPath](https://htmap.readthedocs.io/en/stable/api.html#htmap.TransferPath).\n",
    "`htmap.TransferPath` is a drop-in replacement for `pathlib.Path` in every way, except for HTMap's special treatment of it.\n",
    "\n",
    "HTMap will detect that we used an `htmap.TransferPath` in a map as long as it is an argument or keyword argument of the function, or stored in a primitive container (`list`, `dict`, `set`, `tuples`) and automatically transfer the named file to wherever the function executes."
   ]
  },
  {
   "cell_type": "code",
   "execution_count": 4,
   "metadata": {},
   "outputs": [
    {
     "data": {
      "text/plain": [
       "16"
      ]
     },
     "execution_count": 4,
     "metadata": {},
     "output_type": "execute_result"
    }
   ],
   "source": [
    "import htmap\n",
    "\n",
    "bye_path = htmap.TransferPath().cwd() / 'bye.txt'\n",
    "bye_path.write_text('Have a nice day!')"
   ]
  },
  {
   "cell_type": "code",
   "execution_count": 5,
   "metadata": {},
   "outputs": [
    {
     "name": "stdout",
     "output_type": "stream",
     "text": [
      "created map super-wise-fact with 1 components\n",
      "Have a nice day!\n"
     ]
    }
   ],
   "source": [
    "map = htmap.map(read_file, [bye_path])\n",
    "print(map.get(0))  # map.get will wait until the result is ready"
   ]
  },
  {
   "cell_type": "markdown",
   "metadata": {},
   "source": [
    "## Multiple Files\n",
    "\n",
    "To see how we can transfer a container full of files, let's write a simple clone of the unix `cat` program, which concatenates files.\n",
    "It takes a single argument which is a list of files to be concatenated, and returns the concatenated files as a string."
   ]
  },
  {
   "cell_type": "code",
   "execution_count": 6,
   "metadata": {},
   "outputs": [],
   "source": [
    "def cat(files):\n",
    "    file_contents = (file.read_text() for file in files)\n",
    "    return ''.join(file_contents)"
   ]
  },
  {
   "cell_type": "markdown",
   "metadata": {},
   "source": [
    "Let's write some test files..."
   ]
  },
  {
   "cell_type": "code",
   "execution_count": 7,
   "metadata": {},
   "outputs": [],
   "source": [
    "cwd = htmap.TransferPath.cwd()\n",
    "paths = [\n",
    "    cwd / 'start.txt',\n",
    "    cwd / 'middle.txt',\n",
    "    cwd / 'end.txt',\n",
    "]\n",
    "parts = [\n",
    "    'The quick brown ',\n",
    "    'fox jumps over ',\n",
    "    'the lazy dog!',\n",
    "]\n",
    "for path, part in zip(paths, parts):\n",
    "    path.write_text(part)"
   ]
  },
  {
   "cell_type": "markdown",
   "metadata": {},
   "source": [
    "... and run a map!"
   ]
  },
  {
   "cell_type": "code",
   "execution_count": 8,
   "metadata": {},
   "outputs": [
    {
     "name": "stdout",
     "output_type": "stream",
     "text": [
      "created map hollow-scratchy-farm with 1 components\n",
      "The quick brown fox jumps over the lazy dog!\n"
     ]
    }
   ],
   "source": [
    "m = htmap.map(cat, [paths])  # this creates a single map component with the list of paths as the argument\n",
    "print(m.get(0))"
   ]
  },
  {
   "cell_type": "markdown",
   "metadata": {},
   "source": [
    "---\n",
    "If the \"output\" of your map function needs to be a file instead of a\n",
    "Python object (or you produce files that you need back submit-side for whatever reason),\n",
    "you'll want to look at the \n",
    "[Output Files recipe](https://htmap.readthedocs.io/en/stable/recipes/output-files.html)\n",
    "once you're done with the tutorials.\n",
    "\n",
    "In the [next tutorial](map-options.ipynb) we'll learn how to tell HTCondor about what resources our map components require, as well as another HTCondor configuration they need."
   ]
  }
 ],
 "metadata": {
  "kernelspec": {
   "display_name": "Python 3",
   "language": "python",
   "name": "python3"
  },
  "language_info": {
   "codemirror_mode": {
    "name": "ipython",
    "version": 3
   },
   "file_extension": ".py",
   "mimetype": "text/x-python",
   "name": "python",
   "nbconvert_exporter": "python",
   "pygments_lexer": "ipython3",
   "version": "3.6.6"
  }
 },
 "nbformat": 4,
 "nbformat_minor": 2
}