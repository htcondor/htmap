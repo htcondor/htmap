{
 "cells": [
  {
   "cell_type": "markdown",
   "metadata": {},
   "source": [
    "# Advanced Mapping\n",
    "[![Binder](https://mybinder.org/badge_logo.svg)](https://mybinder.org/v2/gh/htcondor/htmap/master?urlpath=lab/tree/tutorials/advanced-mapping.ipynb)"
   ]
  },
  {
   "cell_type": "markdown",
   "metadata": {},
   "source": [
    "So far we've built our maps using the top-level mapping functions.\n",
    "These functions are useful for tutorials, but don't give us the full flexibility that we might need when working with arbitrary Python functions.\n",
    "They're also sometimes inconvenient to use, especially if you don't like typing the names of your functions over and over.\n",
    "The tools described in this tutorial fix those problems."
   ]
  },
  {
   "cell_type": "markdown",
   "metadata": {},
   "source": [
    "## Starmap\n",
    "\n",
    "Back in [Working With Files](working-with-files.ipynb), we noted that [htmap.map](../api.rst#htmap.map) was only able to handle functions that took a single argument.\n",
    "To work with a function that took two arguments, we needed to use [htmap.build_map](../api.rst#htmap.build_map) to build up the map inside a loop.\n",
    "\n",
    "Sometimes, you don't want to loop.\n",
    "[htmap.starmap](../api.rst#htmap.starmap) provides the flexibility to completely specify the positional and keyword arguments for every component without needing an explicit `for`-loop.\n",
    "\n",
    "Unfortunately, that looks like this:"
   ]
  },
  {
   "cell_type": "code",
   "execution_count": 1,
   "metadata": {},
   "outputs": [],
   "source": [
    "import htmap\n",
    "\n",
    "def power(x, p = 1):\n",
    "        return x ** p"
   ]
  },
  {
   "cell_type": "code",
   "execution_count": 2,
   "metadata": {},
   "outputs": [
    {
     "name": "stdout",
     "output_type": "stream",
     "text": [
      "created map sweet-trite-tub with 3 components\n",
      "[1, 4, 27]\n"
     ]
    }
   ],
   "source": [
    "starmap = htmap.starmap(\n",
    "    func = power,\n",
    "    args = [\n",
    "        (1,),\n",
    "        (2,),\n",
    "        (3,),\n",
    "    ],\n",
    "    kwargs = [\n",
    "        {'p': 1},\n",
    "        {'p': 2},\n",
    "        {'p': 3},\n",
    "    ],\n",
    ")\n",
    "\n",
    "print(list(starmap))  # [1, 4, 27]"
   ]
  },
  {
   "cell_type": "markdown",
   "metadata": {},
   "source": [
    "A slightly more pleasant but less obvious way to construct the arguments would be like this:"
   ]
  },
  {
   "cell_type": "code",
   "execution_count": 3,
   "metadata": {},
   "outputs": [
    {
     "name": "stdout",
     "output_type": "stream",
     "text": [
      "created map soggy-light-jaw with 3 components\n",
      "[1, 4, 27]\n"
     ]
    }
   ],
   "source": [
    "starmap = htmap.starmap(\n",
    "    func = power,\n",
    "    args = ((x,) for x in range(1, 4)),\n",
    "    kwargs = ({'p': p} for p in range(1, 4)),\n",
    ")\n",
    "\n",
    "print(list(starmap))  # [1, 4, 27]"
   ]
  },
  {
   "cell_type": "markdown",
   "metadata": {},
   "source": [
    "But that isn't really a huge improvement.\n",
    "Sometimes you'll need the power and compactness of `starmap`, but we recommend [htmap.build_map](../api.rst#htmap.build_map) for general use."
   ]
  },
  {
   "cell_type": "markdown",
   "metadata": {},
   "source": [
    "## Mapped Functions\n",
    "\n",
    "If you're tired of re-typing the name of your function all the time, create a [htmap.MappedFunction](../api.rst#htmap.MappedFunction) using the [htmap.mapped](../api.rst#htmap.mapped) decorator:"
   ]
  },
  {
   "cell_type": "code",
   "execution_count": 4,
   "metadata": {},
   "outputs": [
    {
     "name": "stdout",
     "output_type": "stream",
     "text": [
      "<MappedFunction(func = <function double at 0x7fbe681531e0>, map_options = {})>\n"
     ]
    }
   ],
   "source": [
    "@htmap.mapped\n",
    "def double(x):\n",
    "    return 2 * x\n",
    "\n",
    "print(double)"
   ]
  },
  {
   "cell_type": "markdown",
   "metadata": {},
   "source": [
    "The resulting `MappedFunction` has methods that correspond to all the mapping functions, but with the function already filled in.\n",
    "\n",
    "For example:"
   ]
  },
  {
   "cell_type": "code",
   "execution_count": 5,
   "metadata": {},
   "outputs": [
    {
     "name": "stdout",
     "output_type": "stream",
     "text": [
      "created map sweet-twin-jaw with 10 components\n",
      "[0, 2, 4, 6, 8, 10, 12, 14, 16, 18]\n"
     ]
    }
   ],
   "source": [
    "doubled = double.map(range(10))\n",
    "\n",
    "print(list(doubled))  # [0, 2, 4, 6, 8, 10, 12, 14, 16, 18]"
   ]
  },
  {
   "cell_type": "markdown",
   "metadata": {},
   "source": [
    "The real utility of mapped functions is that they can carry default map options, which are **inherited** by any maps created from them.\n",
    "For example, if we know that a certain function will always need a large amount of memory and disk space, we can specify it for **any** map like this:"
   ]
  },
  {
   "cell_type": "code",
   "execution_count": 6,
   "metadata": {},
   "outputs": [],
   "source": [
    "@htmap.mapped(\n",
    "    map_options = htmap.MapOptions(\n",
    "        request_memory = '1GB',\n",
    "        request_disk = '10GB',\n",
    "    )\n",
    ")\n",
    "def big_array(_):\n",
    "    big = list(range(1_000_000))  # imagine this is way bigger...\n",
    "    return big"
   ]
  },
  {
   "cell_type": "markdown",
   "metadata": {},
   "source": [
    "Now our `request_memory` and `request_disk` will be set for each map, without needing to specify it in the `MapOptions` of each individual `map` call.\n",
    "We can still override the setting for a certain map by manually passing [htmap.MapOptions](../api.rst#htmap.MapOptions).\n",
    "\n",
    "See [htmap.MapOptions](../api.rst#htmap.MapOptions) for some notes about how these inherited map options behave."
   ]
  },
  {
   "cell_type": "markdown",
   "metadata": {},
   "source": [
    "---\n",
    "In the [next tutorial](error-handling.ipynb) we'll finally address the most important part of programming: what to do when things go wrong!"
   ]
  }
 ],
 "metadata": {
  "kernelspec": {
   "display_name": "Python 3",
   "language": "python",
   "name": "python3"
  },
  "language_info": {
   "codemirror_mode": {
    "name": "ipython",
    "version": 3
   },
   "file_extension": ".py",
   "mimetype": "text/x-python",
   "name": "python",
   "nbconvert_exporter": "python",
   "pygments_lexer": "ipython3",
   "version": "3.6.6"
  }
 },
 "nbformat": 4,
 "nbformat_minor": 2
}
