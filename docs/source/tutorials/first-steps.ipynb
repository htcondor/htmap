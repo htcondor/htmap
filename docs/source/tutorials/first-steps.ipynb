{
  "cells": [
    {
      "cell_type": "markdown",
      "metadata": {
        "pycharm": {}
      },
      "source": [
        "# First Steps\n",
        "[![Binder](https://mybinder.org/badge_logo.svg)](https://mybinder.org/v2/gh/htcondor/htmap/master?urlpath\u003dlab/tree/tutorials/first-steps.ipynb)"
      ]
    },
    {
      "cell_type": "markdown",
      "metadata": {
        "pycharm": {}
      },
      "source": "## Setup\n\n**The fastest and easiest way to make sure you have a working setup (as described below) is to go through these tutorials on Binder**\n[![Binder](https://mybinder.org/badge_logo.svg)](https://mybinder.org/v2/gh/htcondor/htmap/master?urlpath\u003dlab/tree/tutorials/first-steps.ipynb)\n\nThis tutorial assumes that you\u0027ve already installed HTMap on your HTCondor pool\u0027s submit node,\nor have access to HTMap through a JupyterHub server connected to an HTCondor pool or similar.\nSee [How do I install HTMap?](../faq.rst#how-do-i-install-htmap) for details!\n\nThis tutorial also assumes that you\u0027re working in a Jupyter Notebook.\nIt will work just as well in the Python REPL.\nLater, once you get a hang things, you\u0027ll be ready to use HTMap in scripts as well.\nEither way, you\u0027ll need to be on a computer that can submit jobs to an HTCondor pool.\n\nThis tutorial assumes that you have already set up your dependency management, as described in [Dependency Management](../dependencies.rst).\nIf your HTCondor pool supports Docker, you\u0027ll be good to go with the default settings.\n\nThe tutorials in this series are written inside Juypter Notebooks.\nIf you click the \"View page source\" link in the upper right corner, you\u0027ll be able to grab the raw `.ipynb` file yourself and step through it along with the tutorial."
    },
    {
      "cell_type": "markdown",
      "metadata": {
        "pycharm": {}
      },
      "source": [
        "## The Problem\n",
        "\n",
        "Suppose you\u0027ve been given the task of writing a function that doubles numbers, like this:"
      ]
    },
    {
      "cell_type": "code",
      "execution_count": 1,
      "metadata": {
        "pycharm": {}
      },
      "outputs": [],
      "source": [
        "def double(x):\n",
        "    return 2 * x"
      ]
    },
    {
      "cell_type": "markdown",
      "metadata": {
        "pycharm": {}
      },
      "source": [
        "If you want to double a list of numbers, you might do something like"
      ]
    },
    {
      "cell_type": "code",
      "execution_count": 2,
      "metadata": {
        "pycharm": {}
      },
      "outputs": [
        {
          "name": "stdout",
          "output_type": "stream",
          "text": [
            "[0, 2, 4, 6, 8, 10, 12, 14, 16, 18]\n"
          ]
        }
      ],
      "source": [
        "doubled \u003d [double(x) for x in range(10)]\n",
        "print(doubled)"
      ]
    },
    {
      "cell_type": "markdown",
      "metadata": {
        "pycharm": {}
      },
      "source": [
        "or we can use the built-in function `map()`, which applies a function to each element of an iterable (like a list):"
      ]
    },
    {
      "cell_type": "code",
      "execution_count": 3,
      "metadata": {
        "pycharm": {}
      },
      "outputs": [
        {
          "name": "stdout",
          "output_type": "stream",
          "text": [
            "\u003cmap object at 0x7f7dc4e45f60\u003e\n",
            "[0, 2, 4, 6, 8, 10, 12, 14, 16, 18]\n"
          ]
        }
      ],
      "source": [
        "mapped \u003d map(double, range(10))\n",
        "print(mapped)\n",
        "doubled \u003d list(mapped)\n",
        "print(doubled)"
      ]
    },
    {
      "cell_type": "markdown",
      "metadata": {
        "pycharm": {}
      },
      "source": [
        "In both cases, `doubled` is the list `[0, 2, 4, ...]`.\n",
        "The reason we need the `list` call is that `map` actually returns an *iterator* over the results, not the results themselves.\n",
        "So you need to iterate over it to get the output, which is what `list` does: iterate over its input and put the elements in a list."
      ]
    },
    {
      "cell_type": "markdown",
      "metadata": {
        "pycharm": {}
      },
      "source": [
        "Now suppose that, for some reason, you want to double *a lot* of numbers.\n",
        "So many numbers that you can\u0027t bear to do all the work on your own computer.\n",
        "It takes days to multiply all the numbers, and if your program crashes halfway through, you lose all of of your progress and have to start over.\n",
        "You\u0027re losing sleep, and your boss is breathing down your neck because they need those numbers doubled *now*.\n",
        "\n",
        "Luckily, you remember that you have access to an HTCondor high-throughput computing pool.\n",
        "Since each of your function calls is isolated from all the others, the computers in the pool don\u0027t need to talk to each other at all, and you can achieve a huge speedup.\n",
        "The pool can run your code on hundreds or thousands of computers simultaneously, storing the inputs and outputs for you and recovering from individual errors gracefully.\n",
        "It\u0027s the perfect solution.\n",
        "\n",
        "The problem is: *how do you get your code running in the pool?*"
      ]
    },
    {
      "cell_type": "markdown",
      "metadata": {
        "pycharm": {}
      },
      "source": [
        "## The Solution\n",
        "\n",
        "With HTMap, it\u0027s like this:"
      ]
    },
    {
      "cell_type": "code",
      "execution_count": 4,
      "metadata": {
        "pycharm": {}
      },
      "outputs": [
        {
          "name": "stdout",
          "output_type": "stream",
          "text": [
            "created map deep-dire-stick with 10 components\n",
            "\u003cMap(tag \u003d deep-dire-stick)\u003e\n",
            "[0, 2, 4, 6, 8, 10, 12, 14, 16, 18]\n"
          ]
        }
      ],
      "source": [
        "import htmap\n",
        "\n",
        "map_result \u003d htmap.map(double, range(10))\n",
        "print(map_result)\n",
        "doubled \u003d list(map_result)\n",
        "print(doubled)"
      ]
    },
    {
      "cell_type": "markdown",
      "metadata": {
        "pycharm": {}
      },
      "source": [
        "It may take some time for the second `print` to run.\n",
        "During that time, the individual **components** of your **map** are being run out on the cluster on execute nodes.\n",
        "Once they all finish, you\u0027ll get the list of numbers back.\n",
        "As you can see, the output is identical to what you would get from running the function locally."
      ]
    },
    {
      "cell_type": "markdown",
      "metadata": {
        "pycharm": {}
      },
      "source": [
        "---\n",
        "In the [next tutorial](basic-mapping.ipynb) we\u0027ll start digging into the extra features that HTMap provides on top of this basic functionality."
      ]
    }
  ],
  "metadata": {
    "kernelspec": {
      "display_name": "Python 3",
      "language": "python",
      "name": "python3"
    },
    "language_info": {
      "codemirror_mode": {
        "name": "ipython",
        "version": 3
      },
      "file_extension": ".py",
      "mimetype": "text/x-python",
      "name": "python",
      "nbconvert_exporter": "python",
      "pygments_lexer": "ipython3",
      "version": "3.6.6"
    }
  },
  "nbformat": 4,
  "nbformat_minor": 2
}