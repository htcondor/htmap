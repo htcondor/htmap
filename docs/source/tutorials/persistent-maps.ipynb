{
 "cells": [
  {
   "cell_type": "markdown",
   "metadata": {},
   "source": [
    "# Persistent Maps"
   ]
  },
  {
   "cell_type": "markdown",
   "metadata": {},
   "source": [
    "In the previous tutorial, we used HTMap like this:"
   ]
  },
  {
   "cell_type": "code",
   "execution_count": 1,
   "metadata": {},
   "outputs": [],
   "source": [
    "import htmap\n",
    "\n",
    "def double(x):\n",
    "    return 2 * x"
   ]
  },
  {
   "cell_type": "code",
   "execution_count": 2,
   "metadata": {},
   "outputs": [
    {
     "name": "stdout",
     "output_type": "stream",
     "text": [
      "<TransientMap(map = <Map(map_id = tmp-1541468851-0)>)>\n",
      "[0, 2, 4, 6, 8, 10, 12, 14, 16, 18]\n"
     ]
    }
   ],
   "source": [
    "mapped = htmap.transient_map(double, range(10))\n",
    "print(mapped)\n",
    "doubled = list(mapped)\n",
    "print(doubled)"
   ]
  },
  {
   "cell_type": "markdown",
   "metadata": {},
   "source": [
    "In particular, we used the [htmap.transient_map](../api.rst#htmap.transient_map) function to create our map.\n",
    "This function creates an object that acts almost exactly like the iterator returned by the built-in [map](https://docs.python.org/3/library/functions.html#map) function.\n",
    "To get our output, we iterated over it using `list`.\n",
    "Once we've iterated over it, we've exhausted it - the map's data all goes away.\n",
    "\n",
    "Transient maps are very useful when you want to \"fire and forget\" - say, for testing that your map works as intended over a small subset of your data.\n",
    "But to access the full power of HTMap, you'll want to use the persistent mapping functions."
   ]
  },
  {
   "cell_type": "markdown",
   "metadata": {},
   "source": [
    "## Creating Persistent Maps"
   ]
  },
  {
   "cell_type": "markdown",
   "metadata": {},
   "source": [
    "To create a persistent map, we need to give our map a name, which we call a **map ID**:"
   ]
  },
  {
   "cell_type": "code",
   "execution_count": 3,
   "metadata": {},
   "outputs": [
    {
     "name": "stdout",
     "output_type": "stream",
     "text": [
      "<Map(map_id = dbl)>\n"
     ]
    }
   ],
   "source": [
    "htmap.remove('dbl')  # we'll get back to this later!\n",
    "map = htmap.map('dbl', double, range(10))\n",
    "print(map)"
   ]
  },
  {
   "cell_type": "markdown",
   "metadata": {},
   "source": [
    "The object that was returned by [htmap.map](../api.rst#htmap.map) is a [htmap.Map](../api.rst#htmap.Map).\n",
    "It gives us a window into the map as it is running, and lets us use the output once the map is finished.\n",
    "\n",
    "For example, we can print the status of the map:"
   ]
  },
  {
   "cell_type": "code",
   "execution_count": 4,
   "metadata": {},
   "outputs": [
    {
     "name": "stdout",
     "output_type": "stream",
     "text": [
      "Map dbl (10 components): HELD = 0 | IDLE = 10 | RUNNING = 0 | COMPLETED = 0\n"
     ]
    }
   ],
   "source": [
    "print(map.status())"
   ]
  },
  {
   "cell_type": "markdown",
   "metadata": {},
   "source": [
    "We can wait for the map to finish:"
   ]
  },
  {
   "cell_type": "code",
   "execution_count": 5,
   "metadata": {},
   "outputs": [
    {
     "name": "stderr",
     "output_type": "stream",
     "text": [
      "dbl: 100%|###################################| 10/10 [00:06<00:00,  4.97input/s]\n"
     ]
    },
    {
     "data": {
      "text/plain": [
       "datetime.timedelta(0, 6, 27635)"
      ]
     },
     "execution_count": 5,
     "metadata": {},
     "output_type": "execute_result"
    }
   ],
   "source": [
    "map.wait(show_progress_bar = True)"
   ]
  },
  {
   "cell_type": "markdown",
   "metadata": {},
   "source": [
    "Because our map is persistent, we can iterate over it multiple times:"
   ]
  },
  {
   "cell_type": "code",
   "execution_count": 6,
   "metadata": {},
   "outputs": [
    {
     "name": "stdout",
     "output_type": "stream",
     "text": [
      "[0, 2, 4, 6, 8, 10, 12, 14, 16, 18]\n",
      "0\n",
      "2\n",
      "4\n",
      "6\n",
      "8\n",
      "10\n",
      "12\n",
      "14\n",
      "16\n",
      "18\n"
     ]
    }
   ],
   "source": [
    "print(list(map))\n",
    "\n",
    "for d in map:\n",
    "    print(d)"
   ]
  },
  {
   "cell_type": "markdown",
   "metadata": {},
   "source": [
    "If we ever lose our reference to it, we can grab a new reference to it using [htmap.load](../api.rst#htmap.load):"
   ]
  },
  {
   "cell_type": "code",
   "execution_count": 7,
   "metadata": {},
   "outputs": [
    {
     "name": "stdout",
     "output_type": "stream",
     "text": [
      "<Map(map_id = dbl)>\n",
      "True\n"
     ]
    }
   ],
   "source": [
    "new_ref = htmap.load('dbl')\n",
    "\n",
    "print(new_ref)\n",
    "print(new_ref is map)  # maps are singletons"
   ]
  },
  {
   "cell_type": "markdown",
   "metadata": {},
   "source": [
    "Maps can be recovered from an entirely different Python interpreter session as well.\n",
    "Suppose you close Python and go on vacation.\n",
    "You come back and you want to look at your map again, but you've forgotten what you called it.\n",
    "Just ask HTMap for a list of your map IDs:"
   ]
  },
  {
   "cell_type": "code",
   "execution_count": 8,
   "metadata": {},
   "outputs": [
    {
     "name": "stdout",
     "output_type": "stream",
     "text": [
      "('dbl',)\n"
     ]
    }
   ],
   "source": [
    "print(htmap.map_ids())"
   ]
  },
  {
   "cell_type": "markdown",
   "metadata": {},
   "source": [
    "Ok, well, technically it was a tuple, but we'll have to live with it.\n",
    "\n",
    "HTMap can also print a pretty table showing the status of your maps:"
   ]
  },
  {
   "cell_type": "code",
   "execution_count": 9,
   "metadata": {},
   "outputs": [
    {
     "name": "stdout",
     "output_type": "stream",
     "text": [
      " Map ID │ HELD │ IDLE │ RUNNING │ COMPLETED │   Data  \n",
      "────────┼──────┼──────┼─────────┼───────────┼─────────\n",
      "  dbl   │  0   │  0   │    0    │     10    │ 30.3 KB\n",
      "────────┴──────┴──────┴─────────┴───────────┴─────────\n"
     ]
    }
   ],
   "source": [
    "print(htmap.status())"
   ]
  },
  {
   "cell_type": "markdown",
   "metadata": {},
   "source": [
    "The status message tells us about how many components of our map are in each of the four components states:\n",
    "\n",
    "* Idle - component is waiting to run\n",
    "* Running - component is currently executing remotely\n",
    "* Completed - component is finished executing and output is available\n",
    "* Held - HTCondor has noticed a problem with the component and is not letting it run\n",
    "\n",
    "The status of each component of your map is available using the map attribute `component_statuses`:"
   ]
  },
  {
   "cell_type": "code",
   "execution_count": 10,
   "metadata": {},
   "outputs": [
    {
     "name": "stdout",
     "output_type": "stream",
     "text": [
      "[<ComponentStatus.COMPLETED: 'COMPLETED'>, <ComponentStatus.COMPLETED: 'COMPLETED'>, <ComponentStatus.COMPLETED: 'COMPLETED'>, <ComponentStatus.COMPLETED: 'COMPLETED'>, <ComponentStatus.COMPLETED: 'COMPLETED'>, <ComponentStatus.COMPLETED: 'COMPLETED'>, <ComponentStatus.COMPLETED: 'COMPLETED'>, <ComponentStatus.COMPLETED: 'COMPLETED'>, <ComponentStatus.COMPLETED: 'COMPLETED'>, <ComponentStatus.COMPLETED: 'COMPLETED'>]\n"
     ]
    }
   ],
   "source": [
    "print(map.component_statuses)"
   ]
  },
  {
   "cell_type": "markdown",
   "metadata": {},
   "source": [
    "We'll discuss what to do about held components and how to interact with component statuses in the [Error Handling](error-handling.ipynb) tutorial."
   ]
  },
  {
   "cell_type": "markdown",
   "metadata": {},
   "source": [
    "Map IDs are *unique*: if we try to create another map with the same map ID we just used, it will fail:"
   ]
  },
  {
   "cell_type": "code",
   "execution_count": 11,
   "metadata": {},
   "outputs": [
    {
     "ename": "MapIdAlreadyExists",
     "evalue": "the requested map_id dbl already exists (recover the Map, then either use or delete it).",
     "traceback": [
      "\u001b[1;31m---------------------------------------------------------------------------\u001b[0m",
      "\u001b[1;31mMapIdAlreadyExists\u001b[0m                        Traceback (most recent call last)",
      "\u001b[1;32m<ipython-input-11-7a52133b120f>\u001b[0m in \u001b[0;36m<module>\u001b[1;34m()\u001b[0m\n\u001b[1;32m----> 1\u001b[1;33m \u001b[0mnew_map\u001b[0m \u001b[1;33m=\u001b[0m \u001b[0mhtmap\u001b[0m\u001b[1;33m.\u001b[0m\u001b[0mmap\u001b[0m\u001b[1;33m(\u001b[0m\u001b[1;34m'dbl'\u001b[0m\u001b[1;33m,\u001b[0m \u001b[0mdouble\u001b[0m\u001b[1;33m,\u001b[0m \u001b[0mrange\u001b[0m\u001b[1;33m(\u001b[0m\u001b[1;36m20\u001b[0m\u001b[1;33m)\u001b[0m\u001b[1;33m)\u001b[0m\u001b[1;33m\u001b[0m\u001b[0m\n\u001b[0m",
      "\u001b[1;32md:\\githubprojects\\htmap\\htmap\\mapping.py\u001b[0m in \u001b[0;36mmap\u001b[1;34m(map_id, func, args, map_options, **kwargs)\u001b[0m\n\u001b[0;32m     85\u001b[0m         \u001b[0mfunc\u001b[0m\u001b[1;33m,\u001b[0m\u001b[1;33m\u001b[0m\u001b[0m\n\u001b[0;32m     86\u001b[0m         \u001b[0margs_and_kwargs\u001b[0m\u001b[1;33m,\u001b[0m\u001b[1;33m\u001b[0m\u001b[0m\n\u001b[1;32m---> 87\u001b[1;33m         \u001b[0mmap_options\u001b[0m \u001b[1;33m=\u001b[0m \u001b[0mmap_options\u001b[0m\u001b[1;33m,\u001b[0m\u001b[1;33m\u001b[0m\u001b[0m\n\u001b[0m\u001b[0;32m     88\u001b[0m     )\n\u001b[0;32m     89\u001b[0m \u001b[1;33m\u001b[0m\u001b[0m\n",
      "\u001b[1;32md:\\githubprojects\\htmap\\htmap\\mapping.py\u001b[0m in \u001b[0;36mcreate_map\u001b[1;34m(map_id, func, args_and_kwargs, map_options)\u001b[0m\n\u001b[0;32m    365\u001b[0m     \"\"\"\n\u001b[0;32m    366\u001b[0m     \u001b[0mraise_if_map_id_is_invalid\u001b[0m\u001b[1;33m(\u001b[0m\u001b[0mmap_id\u001b[0m\u001b[1;33m)\u001b[0m\u001b[1;33m\u001b[0m\u001b[0m\n\u001b[1;32m--> 367\u001b[1;33m     \u001b[0mraise_if_map_id_already_exists\u001b[0m\u001b[1;33m(\u001b[0m\u001b[0mmap_id\u001b[0m\u001b[1;33m)\u001b[0m\u001b[1;33m\u001b[0m\u001b[0m\n\u001b[0m\u001b[0;32m    368\u001b[0m \u001b[1;33m\u001b[0m\u001b[0m\n\u001b[0;32m    369\u001b[0m     \u001b[0mlogger\u001b[0m\u001b[1;33m.\u001b[0m\u001b[0mdebug\u001b[0m\u001b[1;33m(\u001b[0m\u001b[1;34mf'creating map {map_id}...'\u001b[0m\u001b[1;33m)\u001b[0m\u001b[1;33m\u001b[0m\u001b[0m\n",
      "\u001b[1;32md:\\githubprojects\\htmap\\htmap\\mapping.py\u001b[0m in \u001b[0;36mraise_if_map_id_already_exists\u001b[1;34m(map_id)\u001b[0m\n\u001b[0;32m    423\u001b[0m     \u001b[1;34m\"\"\"Raise a :class:`htmap.exceptions.MapIdAlreadyExists` if the ``map_id`` already exists.\"\"\"\u001b[0m\u001b[1;33m\u001b[0m\u001b[0m\n\u001b[0;32m    424\u001b[0m     \u001b[1;32mif\u001b[0m \u001b[0mmap_dir_path\u001b[0m\u001b[1;33m(\u001b[0m\u001b[0mmap_id\u001b[0m\u001b[1;33m)\u001b[0m\u001b[1;33m.\u001b[0m\u001b[0mexists\u001b[0m\u001b[1;33m(\u001b[0m\u001b[1;33m)\u001b[0m\u001b[1;33m:\u001b[0m\u001b[1;33m\u001b[0m\u001b[0m\n\u001b[1;32m--> 425\u001b[1;33m         \u001b[1;32mraise\u001b[0m \u001b[0mexceptions\u001b[0m\u001b[1;33m.\u001b[0m\u001b[0mMapIdAlreadyExists\u001b[0m\u001b[1;33m(\u001b[0m\u001b[1;34mf'the requested map_id {map_id} already exists (recover the Map, then either use or delete it).'\u001b[0m\u001b[1;33m)\u001b[0m\u001b[1;33m\u001b[0m\u001b[0m\n\u001b[0m\u001b[0;32m    426\u001b[0m \u001b[1;33m\u001b[0m\u001b[0m\n\u001b[0;32m    427\u001b[0m \u001b[1;33m\u001b[0m\u001b[0m\n",
      "\u001b[1;31mMapIdAlreadyExists\u001b[0m: the requested map_id dbl already exists (recover the Map, then either use or delete it)."
     ],
     "output_type": "error"
    }
   ],
   "source": [
    "new_map = htmap.map('dbl', double, range(20))"
   ]
  },
  {
   "cell_type": "markdown",
   "metadata": {},
   "source": [
    "As the error message indicates, if we want to re-use the map ID `dbl`, we need to remove the old map first:"
   ]
  },
  {
   "cell_type": "code",
   "execution_count": 12,
   "metadata": {},
   "outputs": [],
   "source": [
    "map.remove()"
   ]
  },
  {
   "cell_type": "markdown",
   "metadata": {},
   "source": [
    "[htmap.Map.remove](../api.rst#htmap.Map.remove) deletes all traces of the map.\n",
    "**It can never be recovered**.\n",
    "Be careful when using it!\n",
    "\n",
    "The module-level shortcut [htmap.remove](../api.rst#htmap.remove) lets you skip the intermediate step of getting the actual Map, if you don't already have it.\n",
    "We used it earlier to make sure you didn't already have a map named `dbl`, which would have raised a `MapIdAlreadyExists` exception back at the start of the tutorial."
   ]
  },
  {
   "cell_type": "markdown",
   "metadata": {},
   "source": [
    "Now we can re-use the map ID:"
   ]
  },
  {
   "cell_type": "code",
   "execution_count": 13,
   "metadata": {},
   "outputs": [
    {
     "name": "stderr",
     "output_type": "stream",
     "text": [
      "dbl: 100%|###################################| 20/20 [00:12<00:00,  2.84input/s]\n"
     ]
    },
    {
     "name": "stdout",
     "output_type": "stream",
     "text": [
      "[0, 2, 4, 6, 8, 10, 12, 14, 16, 18, 20, 22, 24, 26, 28, 30, 32, 34, 36, 38]\n"
     ]
    }
   ],
   "source": [
    "new_map = htmap.map('dbl', double, range(20))\n",
    "new_map.wait(show_progress_bar = True)\n",
    "print(list(new_map))"
   ]
  },
  {
   "cell_type": "markdown",
   "metadata": {},
   "source": [
    "In the [next tutorial](working-with-files.ipynb), we'll see how to tell HTMap to bring a local file along to the execute node."
   ]
  }
 ],
 "metadata": {
  "kernelspec": {
   "display_name": "Python [conda env:htmap]",
   "language": "python",
   "name": "conda-env-htmap-py"
  },
  "language_info": {
   "codemirror_mode": {
    "name": "ipython",
    "version": 3
   },
   "file_extension": ".py",
   "mimetype": "text/x-python",
   "name": "python",
   "nbconvert_exporter": "python",
   "pygments_lexer": "ipython3",
   "version": "3.6.6"
  }
 },
 "nbformat": 4,
 "nbformat_minor": 2
}
