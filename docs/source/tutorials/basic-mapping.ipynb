{
 "cells": [
  {
   "cell_type": "markdown",
   "metadata": {},
   "source": [
    "# Basic Mapping\n",
    "[![Binder](https://mybinder.org/badge_logo.svg)](https://mybinder.org/v2/gh/htcondor/htmap/master?urlpath=lab/tree/tutorials/basic-mapping.ipynb)"
   ]
  },
  {
   "cell_type": "markdown",
   "metadata": {},
   "source": [
    "## Tags"
   ]
  },
  {
   "cell_type": "markdown",
   "metadata": {},
   "source": [
    "In the previous tutorial, we used HTMap like this:"
   ]
  },
  {
   "cell_type": "code",
   "execution_count": null,
   "metadata": {},
   "outputs": [],
   "source": [
    "import htmap\n",
    "\n",
    "def double(x):\n",
    "    return 2 * x"
   ]
  },
  {
   "cell_type": "code",
   "execution_count": null,
   "metadata": {},
   "outputs": [],
   "source": [
    "mapped = htmap.map(double, range(10))\n",
    "print(mapped)\n",
    "doubled = list(mapped)\n",
    "print(doubled)"
   ]
  },
  {
   "cell_type": "markdown",
   "metadata": {},
   "source": [
    "In particular, we used the [htmap.map](https://htmap.readthedocs.io/en/stable/api.html#htmap.map) function to create our map.\n",
    "This function creates an object that behaves a lot like the iterator returned by the built-in [map](https://docs.python.org/3/library/functions.html#map) function.\n",
    "To get our output, we iterated over it using `list`.\n",
    "\n",
    "You may have noticed that the map has a **tag** associated with it.\n",
    "HTMap generated this tag for us because we didn't provide one, and because we didn't provide one, marked the map as **transient**, as opposed to **persistent**.\n",
    "Transient maps are for quick tests where we don't care too much about organization.\n",
    "Persistent maps are for longer-running maps where we want to keep our work organized by giving things real names.\n",
    "If you don't plan on using your map for more than one session, you can probably get away with a transient map.\n",
    "If you're going to step away from the computer and come back, we recommend giving it a real tag.\n",
    "\n",
    "The map we created above is transient:"
   ]
  },
  {
   "cell_type": "code",
   "execution_count": null,
   "metadata": {},
   "outputs": [],
   "source": [
    "print(mapped.is_transient)"
   ]
  },
  {
   "cell_type": "markdown",
   "metadata": {},
   "source": [
    "To create a persistent map, we need to give our map our map a tag:"
   ]
  },
  {
   "cell_type": "code",
   "execution_count": null,
   "metadata": {},
   "outputs": [],
   "source": [
    "another_map = htmap.map(double, range(10), tag = 'dbl')\n",
    "print(another_map)\n",
    "print(another_map.is_transient)"
   ]
  },
  {
   "cell_type": "markdown",
   "metadata": {},
   "source": [
    "We can also \"retag\" a map to give it a new tag.\n",
    "If you tag a transient map, it becomes persistent."
   ]
  },
  {
   "cell_type": "code",
   "execution_count": null,
   "metadata": {},
   "outputs": [],
   "source": [
    "mapped.retag('a-new-tag')\n",
    "print(mapped)\n",
    "print(mapped.is_transient)"
   ]
  },
  {
   "cell_type": "markdown",
   "metadata": {},
   "source": [
    "## Working with Maps"
   ]
  },
  {
   "cell_type": "markdown",
   "metadata": {},
   "source": [
    "The object that was returned by [htmap.map](https://htmap.readthedocs.io/en/stable/api.html#htmap.map) is a [htmap.Map](https://htmap.readthedocs.io/en/stable/api.html#htmap.Map).\n",
    "It gives us a window into the map as it is running, and lets us use the output once the map is finished.\n",
    "\n",
    "For example, we can print the status of the map:"
   ]
  },
  {
   "cell_type": "code",
   "execution_count": null,
   "metadata": {},
   "outputs": [],
   "source": [
    "stringified = htmap.map(str, range(10), tag = 'str')\n",
    "print(stringified.status())"
   ]
  },
  {
   "cell_type": "markdown",
   "metadata": {},
   "source": [
    "We can wait for the map to finish:"
   ]
  },
  {
   "cell_type": "code",
   "execution_count": null,
   "metadata": {},
   "outputs": [],
   "source": [
    "stringified.wait(show_progress_bar = True)"
   ]
  },
  {
   "cell_type": "markdown",
   "metadata": {},
   "source": [
    "There are many ways to iterate over maps:"
   ]
  },
  {
   "cell_type": "code",
   "execution_count": null,
   "metadata": {},
   "outputs": [],
   "source": [
    "print(list(stringified))\n",
    "\n",
    "for d in stringified:\n",
    "    print(d)"
   ]
  },
  {
   "cell_type": "markdown",
   "metadata": {},
   "source": [
    "If we ever lose our reference to it, we can grab a new reference to it using [htmap.load](https://htmap.readthedocs.io/en/stable/api.html#htmap.load), giving it the tag of the map we want:"
   ]
  },
  {
   "cell_type": "code",
   "execution_count": null,
   "metadata": {},
   "outputs": [],
   "source": [
    "new_ref = htmap.load('str')\n",
    "\n",
    "print(new_ref)\n",
    "print(new_ref == stringified)\n",
    "print(new_ref is stringified)  # maps are singletons"
   ]
  },
  {
   "cell_type": "markdown",
   "metadata": {},
   "source": [
    "Maps can be recovered from an entirely different Python interpreter session as well.\n",
    "Suppose you close Python and go on vacation.\n",
    "You come back and you want to look at your map again, but you've forgotten what you called it.\n",
    "Just ask HTMap for a list of your tags:"
   ]
  },
  {
   "cell_type": "code",
   "execution_count": null,
   "metadata": {},
   "outputs": [],
   "source": [
    "print(htmap.get_tags())"
   ]
  },
  {
   "cell_type": "markdown",
   "metadata": {},
   "source": [
    "Ok, well, technically it was a tuple, but we'll have to live with it.\n",
    "\n",
    "HTMap can also print a pretty table showing the status of your maps:"
   ]
  },
  {
   "cell_type": "code",
   "execution_count": null,
   "metadata": {},
   "outputs": [],
   "source": [
    "htmap.map(str, range(5))  # new transient map\n",
    "print(htmap.status())"
   ]
  },
  {
   "cell_type": "markdown",
   "metadata": {},
   "source": [
    "Note that transient maps have a `*` in front of their tags.\n",
    "\n",
    "The status message tells us about how many components of our map are in each of the five most common component states:\n",
    "\n",
    "* Idle - component is waiting to run\n",
    "* Running - component is currently executing remotely\n",
    "* Completed - component is finished executing and output is available\n",
    "* Held - HTCondor has noticed a problem with the component and is not letting it run\n",
    "* Errored - there was an error in your code, and HTMap has brought back error information\n",
    "\n",
    "The status of each component of your map is available using the map attribute `component_statuses`:"
   ]
  },
  {
   "cell_type": "code",
   "execution_count": null,
   "metadata": {},
   "outputs": [],
   "source": [
    "print(new_ref.component_statuses)"
   ]
  },
  {
   "cell_type": "markdown",
   "metadata": {},
   "source": [
    "We'll discuss what to do about held and errored components and how to interact with component statuses in the [Error Handling](error-handling.ipynb) tutorial."
   ]
  },
  {
   "cell_type": "markdown",
   "metadata": {},
   "source": [
    "Tags are *unique*: if we try to create another map with a tag we've already used, it will fail:"
   ]
  },
  {
   "cell_type": "code",
   "execution_count": null,
   "metadata": {},
   "outputs": [],
   "source": [
    "new_map = htmap.map(double, range(10), tag = 'dbl')"
   ]
  },
  {
   "cell_type": "markdown",
   "metadata": {},
   "source": [
    "As the error message indicates, if we want to re-use the tag `dbl`, we need to remove the old map first:"
   ]
  },
  {
   "cell_type": "code",
   "execution_count": null,
   "metadata": {},
   "outputs": [],
   "source": [
    "old_map = htmap.load('dbl')\n",
    "old_map.remove()"
   ]
  },
  {
   "cell_type": "markdown",
   "metadata": {},
   "source": [
    "[htmap.Map.remove](https://htmap.readthedocs.io/en/stable/api.html#htmap.Map.remove) deletes all traces of the map.\n",
    "**It can never be recovered**.\n",
    "Be careful when using it!\n",
    "\n",
    "The module-level shortcut [htmap.remove](https://htmap.readthedocs.io/en/stable/api.html#htmap.remove) lets you skip the intermediate step of getting the actual Map, if you don't already have it."
   ]
  },
  {
   "cell_type": "markdown",
   "metadata": {},
   "source": [
    "Now we can re-use the map ID:"
   ]
  },
  {
   "cell_type": "code",
   "execution_count": null,
   "metadata": {},
   "outputs": [],
   "source": [
    "new_map = htmap.map(double, range(10), tag = 'dbl')\n",
    "new_map.wait(show_progress_bar = True)\n",
    "print(list(new_map))"
   ]
  },
  {
   "cell_type": "markdown",
   "metadata": {},
   "source": [
    "## Map Builders\n",
    "\n",
    "So far we've been avoiding any functions that needed to be mapped over keyword arguments, or that had more than one positional argument.\n",
    "`htmap.map` is not really the ideal tool for working with functions that have more than one argument, and it does not support varying more than one argument at all.\n",
    "\n",
    "A much more ergonomic way to build up a complex map is a **map builder**.\n",
    "A map builder lets you build a map via individual function calls.\n",
    "Call [htmap.build_map](https://htmap.readthedocs.io/en/stable/api.html#htmap.build_map) as a context manager to get the builder, then call the builder as if it were the mapped function itself:"
   ]
  },
  {
   "cell_type": "code",
   "execution_count": null,
   "metadata": {},
   "outputs": [],
   "source": [
    "def power(base, exponent):\n",
    "    return base ** exponent\n",
    "\n",
    "with htmap.build_map(power) as pow_builder:\n",
    "    for base in range(1, 5):  # bases are 1, 2, 3, 4\n",
    "        for exponent in range(1, 4):  # exponents are 1, 2, 3\n",
    "            pow_builder(base, exponent)\n",
    "\n",
    "powered = pow_builder.map\n",
    "print(list(powered))  # 1^1, 1^2, 1^3, 2^1, 2^2, 2^3, 3^1 ..."
   ]
  },
  {
   "cell_type": "markdown",
   "metadata": {},
   "source": [
    "The map builder catches the function calls and turns them into a map.\n",
    "The map is created when the `with` block ends, at which point you can grab the actual [htmap.Map](https://htmap.readthedocs.io/en/stable/api.html#htmap.Map) from the builder's `map` attribute."
   ]
  },
  {
   "cell_type": "markdown",
   "metadata": {},
   "source": [
    "---\n",
    "In the [next tutorial](working-with-files.ipynb), we'll see how to tell HTMap to bring a local file along to the execute node."
   ]
  }
 ],
 "metadata": {
  "kernelspec": {
   "display_name": "Python 3",
   "language": "python",
   "name": "python3"
  },
  "language_info": {
   "codemirror_mode": {
    "name": "ipython",
    "version": 3
   },
   "file_extension": ".py",
   "mimetype": "text/x-python",
   "name": "python",
   "nbconvert_exporter": "python",
   "pygments_lexer": "ipython3",
   "version": "3.6.6"
  }
 },
 "nbformat": 4,
 "nbformat_minor": 2
}
